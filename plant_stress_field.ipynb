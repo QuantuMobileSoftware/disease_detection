{
 "cells": [
  {
   "cell_type": "code",
   "execution_count": 1,
   "metadata": {},
   "outputs": [],
   "source": [
    "REQUEST_ID = 198\n",
    "AOI = 'POLYGON ((-94.74437712304278 42.10688312211514, -94.78351591698579 42.10713783113902, -94.78351591698579 42.13795006926095, -94.74437712304278 42.13756819109344, -94.74437712304278 42.10688312211514))'\n",
    "START_DATE = '2020-05-01'\n",
    "END_DATE = '2020-09-31'"
   ]
  },
  {
   "cell_type": "code",
   "execution_count": 2,
   "metadata": {},
   "outputs": [],
   "source": [
    "!pip3 install -q tslearn"
   ]
  },
  {
   "cell_type": "code",
   "execution_count": 3,
   "metadata": {},
   "outputs": [
    {
     "name": "stderr",
     "output_type": "stream",
     "text": [
      "/opt/conda/lib/python3.7/site-packages/tslearn/clustering/kmeans.py:17: UserWarning: Scikit-learn <0.24 will be deprecated in a future release of tslearn\n",
      "  \"Scikit-learn <0.24 will be deprecated in a \"\n"
     ]
    }
   ],
   "source": [
    "import os\n",
    "import shutil\n",
    "import json\n",
    "import time\n",
    "import cv2\n",
    "import rasterio\n",
    "import pandas as pd\n",
    "import numpy as np\n",
    "import geopandas as gpd\n",
    "import rasterio.mask\n",
    "import shapely\n",
    "\n",
    "from tqdm.notebook import tqdm\n",
    "from os.path import join, basename, split\n",
    "from scipy.ndimage import rotate\n",
    "from rasterio import features\n",
    "from rasterio.merge import merge\n",
    "from rasterio.warp import (aligned_target,\n",
    "                           calculate_default_transform,\n",
    "                           reproject,\n",
    "                           Resampling)\n",
    "from shapely.geometry import Polygon, shape, LinearRing, box\n",
    "import shapely.wkt\n",
    "from pathlib import Path\n",
    "from datetime import datetime\n",
    "import matplotlib.pylab as plt\n",
    "\n",
    "from tslearn.clustering import TimeSeriesKMeans\n",
    "from tslearn.utils import to_time_series_dataset\n",
    "import rasterio.mask as riomask\n",
    "\n",
    "from code.download.utils import get_tiles, _check_folder, check_nodata, get_min_clouds, transform_resolution\n",
    "from code.download.load_tiles import load_images\n",
    "from code.index_research import combine_bands, calculate_ndvi, calculate_tcari, calculate_msr_g\n",
    "\n",
    "import warnings\n",
    "warnings.filterwarnings('ignore')\n",
    "import logging\n",
    "logger = logging.getLogger()\n",
    "logger.setLevel(logging.INFO)"
   ]
  },
  {
   "cell_type": "code",
   "execution_count": 4,
   "metadata": {},
   "outputs": [],
   "source": [
    "default_crs = 'EPSG:4326'\n",
    "\n",
    "polygon = shapely.wkt.loads(AOI)\n",
    "aoi_filename = f\"{time.time()}_aoi.geojson\"\n",
    "gpd.GeoDataFrame(gpd.GeoSeries([polygon]), columns=[\"geometry\"]).to_file(aoi_filename, driver=\"GeoJSON\")"
   ]
  },
  {
   "cell_type": "code",
   "execution_count": 5,
   "metadata": {},
   "outputs": [
    {
     "data": {
      "text/plain": [
       "'/home/jovyan/work/results/pbdnn/188_2020-06-11_2020-07-13.geojson'"
      ]
     },
     "execution_count": 5,
     "metadata": {},
     "output_type": "execute_result"
    }
   ],
   "source": [
    "SEED = 66\n",
    "NB_USER = os.getenv('NB_USER')\n",
    "BASE = f\"/home/{NB_USER}/work\"\n",
    "\n",
    "API_KEY = os.path.join(BASE, \".secret/sentinel2_google_api_key.json\")\n",
    "sentinel_tiles_path = os.path.join(BASE, \"notebooks/pbdnn/sentinel2grid.geojson\")\n",
    "LOAD_DIR = os.path.join(BASE, \"satellite_imagery\")\n",
    "RESULTS_DIR = os.path.join(BASE, \"results/pbdnn\")\n",
    "PBD_DIR = os.path.join(BASE, \"notebooks/pbdnn\")\n",
    "\n",
    "BANDS = {'B04','B08', 'TCI'}\n",
    "CONSTRAINTS = {'NODATA_PIXEL_PERCENTAGE': 15.0, 'CLOUDY_PIXEL_PERCENTAGE': 10.0, }\n",
    "PRODUCT_TYPE = 'L2A'\n",
    "\n",
    "for pbd_file in os.listdir(os.path.join(BASE, 'results/pbdnn')):\n",
    "    if pbd_file.startswith(str(REQUEST_ID)+'_') or pbd_file.startswith('demo_'+str(REQUEST_ID)+'_'):\n",
    "        PB_PATH = os.path.join(BASE, 'results/pbdnn', pbd_file)\n",
    "        break\n",
    "        \n",
    "    else:\n",
    "        # should be trigger PBDNN notebook excecution? PBDNN pipeline?\n",
    "        PB_PATH = aoi_filename\n",
    "        \n",
    "PB_PATH"
   ]
  },
  {
   "cell_type": "code",
   "execution_count": 6,
   "metadata": {},
   "outputs": [],
   "source": [
    "PB_PATH = aoi_filename"
   ]
  },
  {
   "cell_type": "code",
   "execution_count": 7,
   "metadata": {},
   "outputs": [],
   "source": [
    "year = START_DATE.split('-')[0]\n",
    "\n",
    "starts = [\n",
    "    f'{year}-05-01', f'{year}-05-08', f'{year}-05-15', f'{year}-05-22',\n",
    "    f'{year}-06-01', f'{year}-06-08', f'{year}-06-15', f'{year}-06-22', \n",
    "    f'{year}-07-01', f'{year}-07-08', f'{year}-07-15', f'{year}-07-22',\n",
    "    f'{year}-08-01', f'{year}-08-08', f'{year}-08-15', f'{year}-08-22',\n",
    "]\n",
    "\n",
    "ends = [\n",
    "    f'{year}-05-07', f'{year}-05-14', f'{year}-05-21', f'{year}-05-30',\n",
    "    f'{year}-06-07', f'{year}-06-14', f'{year}-06-21', f'{year}-06-30', \n",
    "    f'{year}-07-07', f'{year}-07-14', f'{year}-07-21', f'{year}-07-30',\n",
    "    f'{year}-08-07', f'{year}-08-14', f'{year}-08-21', f'{year}-08-30'\n",
    "]\n",
    "\n",
    "b04_tiles, b08_tiles, tci_tiles = [], [], []\n",
    "\n",
    "date_tile_info = get_tiles(aoi_filename, sentinel_tiles_path)"
   ]
  },
  {
   "cell_type": "code",
   "execution_count": 8,
   "metadata": {},
   "outputs": [
    {
     "name": "stdout",
     "output_type": "stream",
     "text": [
      "No clean raster found for period from 2020-05-01 to 2020-05-07, skipping, list index out of range\n",
      "expected str, bytes or os.PathLike object, not set\n",
      "No clean raster found for period from 2020-05-08 to 2020-05-14, skipping, list index out of range\n",
      "expected str, bytes or os.PathLike object, not set\n",
      "No clean raster found for period from 2020-05-15 to 2020-05-21, skipping, list index out of range\n",
      "expected str, bytes or os.PathLike object, not set\n",
      "filtered: /home/jovyan/work/satellite_imagery/S2B_MSIL2A_20200529T170849_N0214_R112_T15TUG_20200529T212318\n",
      "filtered: /home/jovyan/work/satellite_imagery/S2A_MSIL2A_20200603T170901_N0214_R112_T15TUG_20200603T231006\n",
      "filtered: /home/jovyan/work/satellite_imagery/S2B_MSIL2A_20200608T170849_N0214_R112_T15TUG_20200608T211003\n",
      "No clean raster found for period from 2020-06-15 to 2020-06-21, skipping, list index out of range\n",
      "expected str, bytes or os.PathLike object, not set\n",
      "No clean raster found for period from 2020-06-22 to 2020-06-30, skipping, list index out of range\n",
      "expected str, bytes or os.PathLike object, not set\n",
      "No clean raster found for period from 2020-07-01 to 2020-07-07, skipping, list index out of range\n",
      "expected str, bytes or os.PathLike object, not set\n",
      "filtered: /home/jovyan/work/satellite_imagery/S2A_MSIL2A_20200713T170901_N0214_R112_T15TUG_20200713T213310\n",
      "filtered: /home/jovyan/work/satellite_imagery/S2B_MSIL2A_20200718T170849_N0214_R112_T15TUG_20200718T212228\n",
      "filtered: /home/jovyan/work/satellite_imagery/S2B_MSIL2A_20200728T170849_N0214_R112_T15TUG_20200728T212118\n",
      "No clean raster found for period from 2020-08-01 to 2020-08-07, skipping, list index out of range\n",
      "expected str, bytes or os.PathLike object, not set\n",
      "No clean raster found for period from 2020-08-08 to 2020-08-14, skipping, list index out of range\n",
      "expected str, bytes or os.PathLike object, not set\n",
      "filtered: /home/jovyan/work/satellite_imagery/S2B_MSIL2A_20200817T170849_N0214_R112_T15TUG_20200817T200143\n",
      "filtered: /home/jovyan/work/satellite_imagery/S2B_MSIL2A_20200827T170849_N0214_R112_T15TUG_20200827T212331\n"
     ]
    }
   ],
   "source": [
    "for start, end in zip(starts, ends):\n",
    "    loadings = load_images(API_KEY, date_tile_info.tileID.values, start, end, LOAD_DIR, BANDS, CONSTRAINTS, PRODUCT_TYPE)\n",
    "    checked = check_nodata(loadings, PRODUCT_TYPE)\n",
    "\n",
    "    try:\n",
    "        checked = get_min_clouds(checked)\n",
    "    except Exception as e:\n",
    "        print(f'No clean raster found for period from {start} to {end}, skipping, {e}')\n",
    "\n",
    "    for i, tile in date_tile_info.iterrows():\n",
    "        try:\n",
    "            tile_folder = Path(checked[tile.tileID])\n",
    "            print(f'filtered: {tile_folder}')\n",
    "        except Exception as ex:\n",
    "            print(ex)\n",
    "            continue\n",
    "\n",
    "        b04_tile = [os.path.join(tile_folder, filename) for filename in os.listdir(tile_folder) if 'B04_10m.jp2' in filename][0]\n",
    "        b08_tile = [os.path.join(tile_folder, filename) for filename in os.listdir(tile_folder) if 'B08_10m.jp2' in filename][0]\n",
    "        tci_tile = [os.path.join(tile_folder, filename) for filename in os.listdir(tile_folder) if 'TCI_10m.jp2' in filename][0]\n",
    "\n",
    "        b04_tiles.append(b04_tile)\n",
    "        b08_tiles.append(b08_tile)\n",
    "        tci_tiles.append(tci_tile)"
   ]
  },
  {
   "cell_type": "code",
   "execution_count": 9,
   "metadata": {},
   "outputs": [
    {
     "data": {
      "text/plain": [
       "['/home/jovyan/work/satellite_imagery/S2B_MSIL2A_20200529T170849_N0214_R112_T15TUG_20200529T212318/T15TUG_20200529T170849_B04_10m.jp2',\n",
       " '/home/jovyan/work/satellite_imagery/S2A_MSIL2A_20200603T170901_N0214_R112_T15TUG_20200603T231006/T15TUG_20200603T170901_B04_10m.jp2',\n",
       " '/home/jovyan/work/satellite_imagery/S2B_MSIL2A_20200608T170849_N0214_R112_T15TUG_20200608T211003/T15TUG_20200608T170849_B04_10m.jp2',\n",
       " '/home/jovyan/work/satellite_imagery/S2A_MSIL2A_20200713T170901_N0214_R112_T15TUG_20200713T213310/T15TUG_20200713T170901_B04_10m.jp2',\n",
       " '/home/jovyan/work/satellite_imagery/S2B_MSIL2A_20200718T170849_N0214_R112_T15TUG_20200718T212228/T15TUG_20200718T170849_B04_10m.jp2',\n",
       " '/home/jovyan/work/satellite_imagery/S2B_MSIL2A_20200728T170849_N0214_R112_T15TUG_20200728T212118/T15TUG_20200728T170849_B04_10m.jp2',\n",
       " '/home/jovyan/work/satellite_imagery/S2B_MSIL2A_20200817T170849_N0214_R112_T15TUG_20200817T200143/T15TUG_20200817T170849_B04_10m.jp2',\n",
       " '/home/jovyan/work/satellite_imagery/S2B_MSIL2A_20200827T170849_N0214_R112_T15TUG_20200827T212331/T15TUG_20200827T170849_B04_10m.jp2']"
      ]
     },
     "execution_count": 9,
     "metadata": {},
     "output_type": "execute_result"
    }
   ],
   "source": [
    "b04_tiles"
   ]
  },
  {
   "cell_type": "code",
   "execution_count": 10,
   "metadata": {},
   "outputs": [],
   "source": [
    "with rasterio.open(tci_tiles[0]) as src:\n",
    "    tci_image = src.read()"
   ]
  },
  {
   "cell_type": "code",
   "execution_count": 11,
   "metadata": {},
   "outputs": [
    {
     "data": {
      "application/vnd.jupyter.widget-view+json": {
       "model_id": "411e71a350ab422aa07dadecefc0fc64",
       "version_major": 2,
       "version_minor": 0
      },
      "text/plain": [
       "HBox(children=(HTML(value=''), FloatProgress(value=0.0, max=8.0), HTML(value='')))"
      ]
     },
     "metadata": {},
     "output_type": "display_data"
    },
    {
     "name": "stdout",
     "output_type": "stream",
     "text": [
      "\n"
     ]
    }
   ],
   "source": [
    "for i in tqdm(range(len(b04_tiles))):\n",
    "    os.makedirs(f'{BASE}/results/dd/plant_stress/{REQUEST_ID}', exist_ok=True)\n",
    "    ndvi_path = f'{BASE}/results/dd/plant_stress/{REQUEST_ID}/ndvi_{i}.tif'\n",
    "    if not os.path.exists(ndvi_path):\n",
    "        calculate_ndvi(b04_tiles[i], b08_tiles[i], out_path=ndvi_path, nodata=np.nan)"
   ]
  },
  {
   "cell_type": "code",
   "execution_count": 12,
   "metadata": {},
   "outputs": [],
   "source": [
    "from ipywidgets import interact\n",
    "import ipywidgets as widgets\n",
    "\n",
    "r_len = len(b04_tiles)\n",
    "\n",
    "def plot_images(tci_imgs, ndvi_imgs, pred_imgs, anom_images):\n",
    "    fig, ax = plt.subplots(len(tci_imgs), 4, figsize=(17, len(tci_imgs)*2))\n",
    "\n",
    "    for i, axes in zip(range(len(tci_imgs)), ax):\n",
    "        \n",
    "        if tci_imgs[i].shape[0] == 3:\n",
    "            axes[0].imshow(tci_imgs[i].transpose(1, 2, 0))\n",
    "        else:\n",
    "            axes[0].imshow(tci_imgs[i], cmap='gray') #np.where(gt_imgs[i]==tp, gt_imgs[i], 0))\n",
    "        axes[1].imshow(ndvi_imgs[i], cmap='gray') #np.where(gt_imgs[i]==fp, gt_imgs[i], 0))\n",
    "        axes[2].imshow(pred_imgs[i], cmap='gray') #np.where(gt_imgs[i]==fn, gt_imgs[i], 0))\n",
    "        axes[3].imshow(anom_images[i], cmap='gray')\n",
    "    \n",
    "    ax[0][0].set_title('TCI');\n",
    "    ax[0][1].set_title('NDVI');\n",
    "    ax[0][2].set_title('Clusters');\n",
    "    ax[0][3].set_title('Prediction');\n",
    "    \n",
    "        \n",
    "    plt.tight_layout();\n",
    "    return tci_imgs, ndvi_imgs, pred_imgs, anom_images\n",
    "\n",
    "def visualize_results(tci_images, ndvi_imgs, pred_ndvi, results):\n",
    "    \n",
    "    def get_arrays(num):\n",
    "        tci = tci_images[r_len*num:r_len*num+r_len]\n",
    "        ndvi = ndvi_imgs[r_len*num:r_len*num+r_len]\n",
    "        pred = pred_ndvi[r_len*num:r_len*num+r_len]\n",
    "        result = results[r_len*num:r_len*num+r_len]\n",
    "        \n",
    "        return tci, ndvi, pred, result\n",
    "\n",
    "    def f_fabric(num):\n",
    "        \n",
    "        def f(x):\n",
    "        \n",
    "            tci, ndvi, pred, result = get_arrays(num)\n",
    "            plot_images(tci, ndvi, pred, result)\n",
    "            \n",
    "        return f\n",
    "    \n",
    "    plt.rcParams.update({'font.size': 14})\n",
    "    f = f_fabric(0)\n",
    "    interact(f, x=widgets.IntSlider(min=0, max=(len(tci_images)//r_len), step=1, value=0, continuous_update=False))"
   ]
  },
  {
   "cell_type": "code",
   "execution_count": 13,
   "metadata": {},
   "outputs": [],
   "source": [
    "def transform_crs(data_path, save_path, dst_crs='EPSG:4326', resolution=(10, 10)):\n",
    "    with rasterio.open(data_path) as src:\n",
    "        if resolution is None:\n",
    "            transform, width, height = calculate_default_transform(src.crs,\n",
    "                                                                   dst_crs,\n",
    "                                                                   src.width,\n",
    "                                                                   src.height,\n",
    "                                                                   *src.bounds)\n",
    "        else:\n",
    "            transform, width, height = calculate_default_transform(src.crs,\n",
    "                                                                   dst_crs,\n",
    "                                                                   src.width,\n",
    "                                                                   src.height,\n",
    "                                                                   *src.bounds,\n",
    "                                                                   resolution=resolution)\n",
    "        kwargs = src.meta.copy()\n",
    "        kwargs.update({'crs': dst_crs,\n",
    "                       'transform': transform,\n",
    "                       'width': width,\n",
    "                       'height': height})\n",
    "        with rasterio.open(save_path, 'w', **kwargs) as dst:\n",
    "            for i in range(1, src.count + 1):\n",
    "                reproject(\n",
    "                    source=rasterio.band(src, i),\n",
    "                    destination=rasterio.band(dst, i),\n",
    "                    src_transform=src.transform,\n",
    "                    src_crs=src.crs,\n",
    "                    dst_transform=transform,\n",
    "                    dst_crs=dst_crs,\n",
    "                    resampling=Resampling.nearest)\n",
    "        dst.close()\n",
    "    src.close()\n",
    "\n",
    "    return save_path"
   ]
  },
  {
   "cell_type": "code",
   "execution_count": 14,
   "metadata": {},
   "outputs": [],
   "source": [
    "def stitch_tiles(paths, out_raster_path='test.tif'):\n",
    "    tiles = []\n",
    "    tmp_files = []\n",
    "    \n",
    "    for i, path in enumerate(paths):\n",
    "        if i == 0:\n",
    "            file = rasterio.open(path)\n",
    "            meta, crs = file.meta, file.crs\n",
    "        else:\n",
    "            tmp_path = path.replace(\n",
    "                '.jp2', '_tmp.jp2').replace('.tif', '_tmp.tif')\n",
    "            crs_transformed = transform_crs(path, tmp_path, \n",
    "                                            dst_crs=crs, \n",
    "                                            resolution=None)\n",
    "            tmp_files.append(crs_transformed)\n",
    "            file = rasterio.open(crs_transformed)\n",
    "        tiles.append(file)\n",
    "            \n",
    "    tile_arr, transform = merge(tiles, method='last')\n",
    "    \n",
    "    \n",
    "    meta.update({\"driver\": \"GTiff\",\n",
    "                 \"height\": tile_arr.shape[1],\n",
    "                 \"width\": tile_arr.shape[2],\n",
    "                 \"transform\": transform,\n",
    "                 \"crs\": crs})\n",
    "    \n",
    "    if '.jp2' in out_raster_path:\n",
    "        out_raster_path = out_raster_path.replace('.jp2', '_merged.tif')\n",
    "    else:\n",
    "        out_raster_path = out_raster_path.replace('.tif', '_merged.tif')\n",
    "    print(f'saved raster {out_raster_path}')\n",
    "\n",
    "    for tile in tiles:\n",
    "        tile.close()\n",
    "        \n",
    "    for tmp_file in tmp_files:\n",
    "        try:\n",
    "            os.remove(tmp_file)\n",
    "        except FileNotFoundError:\n",
    "            print(f'Tile {tmp_file} was removed or renamed, skipping')\n",
    "        \n",
    "    with rasterio.open(out_raster_path, \"w\", **meta) as dst:\n",
    "        dst.write(tile_arr)\n",
    "    \n",
    "    return out_raster_path"
   ]
  },
  {
   "cell_type": "code",
   "execution_count": 15,
   "metadata": {},
   "outputs": [],
   "source": [
    "fields = gpd.read_file(PB_PATH)"
   ]
  },
  {
   "cell_type": "code",
   "execution_count": 62,
   "metadata": {},
   "outputs": [
    {
     "data": {
      "application/vnd.jupyter.widget-view+json": {
       "model_id": "ceb164875916447396b79efb84f9918b",
       "version_major": 2,
       "version_minor": 0
      },
      "text/plain": [
       "HBox(children=(HTML(value=''), FloatProgress(value=0.0, max=9.0), HTML(value='')))"
      ]
     },
     "metadata": {},
     "output_type": "display_data"
    },
    {
     "name": "stdout",
     "output_type": "stream",
     "text": [
      "\n"
     ]
    }
   ],
   "source": [
    "all_polys = gpd.GeoDataFrame()\n",
    "num_clusters = 2\n",
    "conf = 0.5\n",
    "z_score = 2\n",
    "\n",
    "tci_images, ndvi_imgs, pred_ndvi, results = [], [], [], []\n",
    "rasters_to_stitch, steps_to_vis = [], []\n",
    "p_bar = tqdm(fields.iterrows(), total=len(fields))\n",
    "\n",
    "for idx, row in p_bar:\n",
    "    \n",
    "    ndvi_steps = []\n",
    "    tci_steps = []\n",
    "    clustered = []\n",
    "    \n",
    "    kmeans = TimeSeriesKMeans(n_clusters=2, metric=\"softdtw\",\n",
    "                              max_iter=10, random_state=SEED)\n",
    "    \n",
    "    for i in range(len(b04_tiles)):\n",
    "        \n",
    "        tci_path = tci_tiles[i]\n",
    "        ndvi_path = f'{BASE}/results/dd/plant_stress/{REQUEST_ID}/ndvi_{i}.tif'\n",
    "    \n",
    "        with rasterio.open(tci_path) as src:\n",
    "            tci_image, tfs = riomask.mask(\n",
    "                src, [fields.to_crs(src.crs).iloc[idx].geometry], all_touched=False, crop=True)\n",
    "\n",
    "        with rasterio.open(ndvi_path) as src:\n",
    "            ndvi, tfs = riomask.mask(\n",
    "                src, [fields.to_crs(src.crs).iloc[idx].geometry], all_touched=False, crop=True)\n",
    "            crs = src.crs\n",
    "            meta = src.meta\n",
    "            \n",
    "        mu, sigma = ndvi.mean(), ndvi.std()\n",
    "        #print(mu, sigma)\n",
    "        \n",
    "        lower_bound, upper_bound = mu - z_score*sigma, mu + z_score*sigma\n",
    "        \n",
    "        \n",
    "        raster_mask = ndvi.astype(np.bool)\n",
    "        ndvi = np.where( (ndvi > lower_bound) & (ndvi < upper_bound), ndvi, 0 )\n",
    "        ndvi_img = np.where(raster_mask, ndvi, 0)\n",
    "        ndvi_step = ndvi_img[raster_mask]\n",
    "            \n",
    "        ndvi_steps.append(ndvi_step)\n",
    "        ndvi_imgs.append(ndvi[0])\n",
    "        tci_images.append(tci_image)\n",
    "    # break\n",
    "        \n",
    "    \n",
    "    try:\n",
    "        timesteps = np.stack([x.ravel() for x in ndvi_steps], axis=-1) #.reshape(len(b04_tiles), -1)\n",
    "    except Exception as e:\n",
    "        print(e, '\\n', [x.shape for x in ndvi_steps])\n",
    "        break\n",
    "        continue\n",
    "    kmeans.fit(timesteps)\n",
    "    \n",
    "    c, h, w = ndvi.shape\n",
    "    labels_ = kmeans.labels_     \n",
    "\n",
    "    ndvi_pred = ndvi_img.ravel()\n",
    "    ndvi_pred[raster_mask.ravel()] = labels_ + 1\n",
    "    ndvi_pred = ndvi_pred.reshape(h, w)\n",
    "\n",
    "    label_1 = np.where(ndvi_pred==1, ndvi[0], 0)\n",
    "    label_2 = np.where(ndvi_pred==2, ndvi[0], 0)\n",
    "    anomaly_label = 1 if label_1.mean() < label_2.mean() else 2\n",
    "    \n",
    "    for i in range(len(b04_tiles)):\n",
    "        pred_ndvi.append(ndvi_pred)\n",
    "\n",
    "    for i in range(len(b04_tiles)):\n",
    "        results.append(np.where(ndvi_pred==anomaly_label, 1, 0).astype(np.uint8))\n",
    "    \n",
    "    raster_path = f'{BASE}/results/dd/plant_stress/{REQUEST_ID}/{REQUEST_ID}_field_{idx}.tif'\n",
    "    # raster_path = f'{BASE}/results/dd/{REQUEST_ID}_field_{idx}.tif'\n",
    "    \n",
    "    colors = [(0, 0, 0), (182, 10, 28),]\n",
    "\n",
    "    labels = []\n",
    "    result_3c = ndvi_img.reshape(1, ndvi.shape[-2], ndvi.shape[-1])\n",
    "    mask = np.zeros((result_3c[0].shape[-2], result_3c[0].shape[-1], 3))\n",
    "    \n",
    "    for ix, color in enumerate(colors):\n",
    "\n",
    "        mask[result_3c[0]==ix] = color\n",
    "\n",
    "        labels.append({\n",
    "            \"color\": \",\".join(str(color).split(',')),\n",
    "        })\n",
    "        \n",
    "    meta['height'] = ndvi.shape[-2]\n",
    "    meta['width'] = ndvi.shape[-1]\n",
    "    meta['transform'] = tfs\n",
    "    meta['dtype'] = rasterio.uint8\n",
    "    \n",
    "    meta.update(\n",
    "        count=3,\n",
    "        nodata=0,\n",
    "        compress='lzw',\n",
    "        photometric='RGB'\n",
    "    )\n",
    "    \n",
    "    p_bar.set_postfix({\"raster\": raster_path, \"mu\": mu, \"sigma\":sigma, \"anomaly\": anomaly_label})\n",
    "    if os.path.exists(raster_path):\n",
    "        continue\n",
    "    with rasterio.open(raster_path, 'w', **meta) as dst:\n",
    "\n",
    "        \n",
    "\n",
    "        dst.update_tags(start_date=START_DATE, \n",
    "                        end_date=END_DATE, \n",
    "                        request_id=str(REQUEST_ID)+'_'+str(ix),\n",
    "                        labels=labels,\n",
    "                        name=f'Field {idx} anomalies')\n",
    "\n",
    "        for i in range(mask.shape[-1]):\n",
    "            dst.write(mask[:,:,i].astype(np.uint8), indexes=i+1)\n",
    "            \n",
    "    rasters_to_stitch.append(raster_path)"
   ]
  },
  {
   "cell_type": "code",
   "execution_count": 63,
   "metadata": {},
   "outputs": [],
   "source": [
    "colors = ['red', 'blue']\n",
    "\n",
    "def visualize_values(tci_imgs, ndvi_imgs, pred_imgs, colors=colors):\n",
    "    \n",
    "    fig, ax = plt.subplots(1, 2, figsize=(14, 8))\n",
    "    num_clusters = len(np.unique(pred_imgs)) - 1\n",
    "    \n",
    "    for cl in range(num_clusters):\n",
    "        mask = np.where(pred_imgs[0]==cl+1, True, False)\n",
    "        ndvi_series = [ndvi_imgs[i][mask] for i in range(len(ndvi_imgs))]\n",
    "        ax[0].plot(ndvi_series, color=colors[cl], alpha=0.3);\n",
    "        ax[1].plot(np.mean(ndvi_series, axis=-1), color=colors[cl], label=cl+1)\n",
    "        ax[1].legend();\n",
    "        \n",
    "    plt.tight_layout();"
   ]
  },
  {
   "cell_type": "code",
   "execution_count": 64,
   "metadata": {},
   "outputs": [
    {
     "data": {
      "text/plain": [
       "(72, 72, 72)"
      ]
     },
     "execution_count": 64,
     "metadata": {},
     "output_type": "execute_result"
    }
   ],
   "source": [
    "len(tci_images), len(pred_ndvi), len(results)"
   ]
  },
  {
   "cell_type": "code",
   "execution_count": 65,
   "metadata": {},
   "outputs": [
    {
     "data": {
      "text/plain": [
       "(43, 40)"
      ]
     },
     "execution_count": 65,
     "metadata": {},
     "output_type": "execute_result"
    }
   ],
   "source": [
    "pred_ndvi[0].shape"
   ]
  },
  {
   "cell_type": "code",
   "execution_count": 84,
   "metadata": {},
   "outputs": [],
   "source": [
    "remove_aux_rasters = True\n",
    "\n",
    "if remove_aux_rasters:\n",
    "    \n",
    "    try:\n",
    "        shutil.rmtree(tile_folder)\n",
    "    except FileNotFoundError:\n",
    "        print(f'Error removing directory {tile_folder}')\n",
    "        \n",
    "    for i in range(len(b04_tiles)):\n",
    "        os.makedirs(f'{BASE}/results/dd/plant_stress/{REQUEST_ID}', exist_ok=True)\n",
    "        ndvi_path = f'{BASE}/results/dd/plant_stress/{REQUEST_ID}/ndvi_{i}.tif'\n",
    "        try:\n",
    "            os.remove(ndvi_path)\n",
    "        except FileNotFoundError:\n",
    "            print(f'Error removing file {ndvi_path}')\n",
    "            \n",
    "    #for raster_path in rasters_to_stitch:\n",
    "    #    try:\n",
    "    #        os.remove(raster_path)\n",
    "    #    except FileNotFoundError:\n",
    "    #        print(f'Error removing file {raster_path}')"
   ]
  }
 ],
 "metadata": {
  "kernelspec": {
   "display_name": "Python 3",
   "language": "python",
   "name": "python3"
  },
  "language_info": {
   "codemirror_mode": {
    "name": "ipython",
    "version": 3
   },
   "file_extension": ".py",
   "mimetype": "text/x-python",
   "name": "python",
   "nbconvert_exporter": "python",
   "pygments_lexer": "ipython3",
   "version": "3.7.8"
  }
 },
 "nbformat": 4,
 "nbformat_minor": 4
}
