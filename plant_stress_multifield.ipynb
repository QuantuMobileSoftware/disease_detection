{
 "cells": [
  {
   "cell_type": "code",
   "execution_count": 1,
   "metadata": {},
   "outputs": [],
   "source": [
    "REQUEST_ID = 1011\n",
    "AOI = 'POLYGON ((-94.74437712304278 42.10688312211514, -94.78351591698579 42.10713783113902, -94.78351591698579 42.13795006926095, -94.74437712304278 42.13756819109344, -94.74437712304278 42.10688312211514))'\n",
    "START_DATE = '2020-07-07'\n",
    "END_DATE = '2020-07-14'"
   ]
  },
  {
   "cell_type": "code",
   "execution_count": 2,
   "metadata": {},
   "outputs": [],
   "source": [
    "# !pip3 install -q tslearn"
   ]
  },
  {
   "cell_type": "code",
   "execution_count": 3,
   "metadata": {},
   "outputs": [],
   "source": [
    "import os\n",
    "import shutil\n",
    "import json\n",
    "import time\n",
    "import cv2\n",
    "import rasterio\n",
    "import pandas as pd\n",
    "import numpy as np\n",
    "import geopandas as gpd\n",
    "import rasterio.mask\n",
    "import shapely\n",
    "\n",
    "from tqdm.notebook import tqdm\n",
    "from os.path import join, basename, split\n",
    "from scipy.ndimage import rotate\n",
    "from rasterio import features\n",
    "from rasterio.merge import merge\n",
    "from rasterio.warp import (aligned_target,\n",
    "                           calculate_default_transform,\n",
    "                           reproject,\n",
    "                           Resampling)\n",
    "from shapely.geometry import Polygon, shape, LinearRing, box\n",
    "import shapely.wkt\n",
    "from pathlib import Path\n",
    "from datetime import datetime\n",
    "import matplotlib.pylab as plt\n",
    "import seaborn as sns\n",
    "\n",
    "#from tslearn.clustering import TimeSeriesKMeans\n",
    "#from tslearn.utils import to_time_series_dataset\n",
    "import rasterio.mask as riomask\n",
    "\n",
    "from code.download.utils import get_tiles, _check_folder, check_nodata, get_min_clouds, transform_resolution\n",
    "from code.download.load_tiles import load_images\n",
    "from code.index_research import combine_bands, calculate_ndvi, calculate_tcari, calculate_msr_g\n",
    "from code.plant_stress import PlantStress\n",
    "\n",
    "import warnings\n",
    "warnings.filterwarnings('ignore')\n",
    "import logging\n",
    "logger = logging.getLogger()\n",
    "logger.setLevel(logging.INFO)"
   ]
  },
  {
   "cell_type": "code",
   "execution_count": 4,
   "metadata": {},
   "outputs": [],
   "source": [
    "default_crs = 'EPSG:4326'\n",
    "\n",
    "polygon = shapely.wkt.loads(AOI)\n",
    "aoi_filename = f\"{time.time()}_aoi.geojson\"\n",
    "gpd.GeoDataFrame(gpd.GeoSeries([polygon]), columns=[\"geometry\"]).to_file(aoi_filename, driver=\"GeoJSON\")"
   ]
  },
  {
   "cell_type": "code",
   "execution_count": 5,
   "metadata": {},
   "outputs": [
    {
     "data": {
      "text/plain": [
       "'1626684458.40807_aoi.geojson'"
      ]
     },
     "execution_count": 5,
     "metadata": {},
     "output_type": "execute_result"
    }
   ],
   "source": [
    "SEED = 66\n",
    "NB_USER = os.getenv('NB_USER')\n",
    "BASE = f\"/home/{NB_USER}/work\"\n",
    "\n",
    "API_KEY = os.path.join(BASE, \".secret/sentinel2_google_api_key.json\")\n",
    "sentinel_tiles_path = os.path.join(BASE, \"notebooks/pbdnn/sentinel2grid.geojson\")\n",
    "LOAD_DIR = os.path.join(BASE, \"satellite_imagery\")\n",
    "RESULTS_DIR = os.path.join(BASE, \"results/pbdnn\")\n",
    "PBD_DIR = os.path.join(BASE, \"notebooks/pbdnn\")\n",
    "\n",
    "BANDS = {'B04','B08', 'TCI'}\n",
    "CONSTRAINTS = {'NODATA_PIXEL_PERCENTAGE': 15.0, 'CLOUDY_PIXEL_PERCENTAGE': 10.0, }\n",
    "PRODUCT_TYPE = 'L2A'\n",
    "\n",
    "for pbd_file in os.listdir(os.path.join(BASE, 'results/pbdnn')):\n",
    "    if pbd_file.startswith(str(REQUEST_ID)+'_') or pbd_file.startswith('demo_'+str(REQUEST_ID)+'_'):\n",
    "        PB_PATH = os.path.join(BASE, 'results/pbdnn', pbd_file)\n",
    "        break\n",
    "        \n",
    "    else:\n",
    "        # should be trigger PBDNN notebook excecution? PBDNN pipeline?\n",
    "        PB_PATH = aoi_filename\n",
    "        \n",
    "PB_PATH"
   ]
  },
  {
   "cell_type": "code",
   "execution_count": 6,
   "metadata": {},
   "outputs": [],
   "source": [
    "PB_PATH = '/home/jovyan/work/notebooks/dd/iowa_fields.geojson'"
   ]
  },
  {
   "cell_type": "code",
   "execution_count": 7,
   "metadata": {},
   "outputs": [],
   "source": [
    "b04_tiles, b08_tiles, tci_tiles = [], [], []\n",
    "date_tile_info = get_tiles(aoi_filename, sentinel_tiles_path)"
   ]
  },
  {
   "cell_type": "code",
   "execution_count": 8,
   "metadata": {},
   "outputs": [
    {
     "name": "stdout",
     "output_type": "stream",
     "text": [
      "filtered: /home/jovyan/work/satellite_imagery/S2A_MSIL2A_20200713T170901_N0214_R112_T15TUG_20200713T213310\n"
     ]
    }
   ],
   "source": [
    "loadings = load_images(API_KEY, date_tile_info.tileID.values, START_DATE, END_DATE, LOAD_DIR, BANDS, CONSTRAINTS, PRODUCT_TYPE)\n",
    "checked = check_nodata(loadings, PRODUCT_TYPE)\n",
    "\n",
    "try:\n",
    "    checked = get_min_clouds(checked)\n",
    "except Exception as e:\n",
    "    print(f'No clean raster found for period from {start} to {end}, skipping, {e}')\n",
    "\n",
    "for i, tile in date_tile_info.iterrows():\n",
    "    try:\n",
    "        tile_folder = Path(checked[tile.tileID])\n",
    "        print(f'filtered: {tile_folder}')\n",
    "    except Exception as ex:\n",
    "        print(ex)\n",
    "\n",
    "b04_tile = [os.path.join(tile_folder, filename) for filename in os.listdir(tile_folder) if 'B04_10m.jp2' in filename][0]\n",
    "b08_tile = [os.path.join(tile_folder, filename) for filename in os.listdir(tile_folder) if 'B08_10m.jp2' in filename][0]\n",
    "tci_tile = [os.path.join(tile_folder, filename) for filename in os.listdir(tile_folder) if 'TCI_10m.jp2' in filename][0]"
   ]
  },
  {
   "cell_type": "code",
   "execution_count": 9,
   "metadata": {},
   "outputs": [
    {
     "data": {
      "text/plain": [
       "'/home/jovyan/work/satellite_imagery/S2A_MSIL2A_20200713T170901_N0214_R112_T15TUG_20200713T213310/T15TUG_20200713T170901_B04_10m.jp2'"
      ]
     },
     "execution_count": 9,
     "metadata": {},
     "output_type": "execute_result"
    }
   ],
   "source": [
    "b04_tile"
   ]
  },
  {
   "cell_type": "code",
   "execution_count": 10,
   "metadata": {},
   "outputs": [],
   "source": [
    "with rasterio.open(tci_tile) as src:\n",
    "    tci_image = src.read()"
   ]
  },
  {
   "cell_type": "code",
   "execution_count": 11,
   "metadata": {},
   "outputs": [],
   "source": [
    "os.makedirs(f'{BASE}/results/dd/plant_stress/{REQUEST_ID}', exist_ok=True)\n",
    "ndvi_path = f'{BASE}/results/dd/plant_stress/{REQUEST_ID}/{REQUEST_ID}_ndvi.tif'\n",
    "if not os.path.exists(ndvi_path):\n",
    "    calculate_ndvi(b04_tile, b08_tile, out_path=ndvi_path, nodata=np.nan)"
   ]
  },
  {
   "cell_type": "code",
   "execution_count": 12,
   "metadata": {},
   "outputs": [],
   "source": [
    "def transform_crs(data_path, save_path, dst_crs='EPSG:4326', resolution=(10, 10)):\n",
    "    with rasterio.open(data_path) as src:\n",
    "        if resolution is None:\n",
    "            transform, width, height = calculate_default_transform(src.crs,\n",
    "                                                                   dst_crs,\n",
    "                                                                   src.width,\n",
    "                                                                   src.height,\n",
    "                                                                   *src.bounds)\n",
    "        else:\n",
    "            transform, width, height = calculate_default_transform(src.crs,\n",
    "                                                                   dst_crs,\n",
    "                                                                   src.width,\n",
    "                                                                   src.height,\n",
    "                                                                   *src.bounds,\n",
    "                                                                   resolution=resolution)\n",
    "        kwargs = src.meta.copy()\n",
    "        kwargs.update({'crs': dst_crs,\n",
    "                       'transform': transform,\n",
    "                       'width': width,\n",
    "                       'height': height})\n",
    "        with rasterio.open(save_path, 'w', **kwargs) as dst:\n",
    "            for i in range(1, src.count + 1):\n",
    "                reproject(\n",
    "                    source=rasterio.band(src, i),\n",
    "                    destination=rasterio.band(dst, i),\n",
    "                    src_transform=src.transform,\n",
    "                    src_crs=src.crs,\n",
    "                    dst_transform=transform,\n",
    "                    dst_crs=dst_crs,\n",
    "                    resampling=Resampling.nearest)\n",
    "        dst.close()\n",
    "    src.close()\n",
    "\n",
    "    return save_path"
   ]
  },
  {
   "cell_type": "code",
   "execution_count": 13,
   "metadata": {},
   "outputs": [],
   "source": [
    "def stitch_tiles(paths, out_raster_path='test.tif'):\n",
    "    tiles = []\n",
    "    tmp_files = []\n",
    "    \n",
    "    for i, path in enumerate(paths):\n",
    "        if i == 0:\n",
    "            file = rasterio.open(path)\n",
    "            meta, crs = file.meta, file.crs\n",
    "        else:\n",
    "            tmp_path = path.replace(\n",
    "                '.jp2', '_tmp.jp2').replace('.tif', '_tmp.tif')\n",
    "            crs_transformed = transform_crs(path, tmp_path, \n",
    "                                            dst_crs=crs, \n",
    "                                            resolution=None)\n",
    "            tmp_files.append(crs_transformed)\n",
    "            file = rasterio.open(crs_transformed)\n",
    "        tiles.append(file)\n",
    "            \n",
    "    tile_arr, transform = merge(tiles, method='last')\n",
    "    \n",
    "    \n",
    "    meta.update({\"driver\": \"GTiff\",\n",
    "                 \"height\": tile_arr.shape[1],\n",
    "                 \"width\": tile_arr.shape[2],\n",
    "                 \"transform\": transform,\n",
    "                 \"crs\": crs})\n",
    "    \n",
    "    if '.jp2' in out_raster_path:\n",
    "        out_raster_path = out_raster_path.replace('.jp2', '_merged.tif')\n",
    "    else:\n",
    "        out_raster_path = out_raster_path.replace('.tif', '_merged.tif')\n",
    "    print(f'saved raster {out_raster_path}')\n",
    "\n",
    "    for tile in tiles:\n",
    "        tile.close()\n",
    "        \n",
    "    for tmp_file in tmp_files:\n",
    "        try:\n",
    "            os.remove(tmp_file)\n",
    "        except FileNotFoundError:\n",
    "            print(f'Tile {tmp_file} was removed or renamed, skipping')\n",
    "        \n",
    "    with rasterio.open(out_raster_path, \"w\", **meta) as dst:\n",
    "        dst.write(tile_arr)\n",
    "    \n",
    "    return out_raster_path"
   ]
  },
  {
   "cell_type": "code",
   "execution_count": 14,
   "metadata": {},
   "outputs": [],
   "source": [
    "fields = gpd.read_file(PB_PATH)"
   ]
  },
  {
   "cell_type": "code",
   "execution_count": 15,
   "metadata": {},
   "outputs": [
    {
     "data": {
      "application/vnd.jupyter.widget-view+json": {
       "model_id": "0915c15f18184dbd93437c2a19af6208",
       "version_major": 2,
       "version_minor": 0
      },
      "text/plain": [
       "HBox(children=(HTML(value=''), FloatProgress(value=0.0, max=9.0), HTML(value='')))"
      ]
     },
     "metadata": {},
     "output_type": "display_data"
    },
    {
     "name": "stdout",
     "output_type": "stream",
     "text": [
      "\n"
     ]
    }
   ],
   "source": [
    "min_ndvi = 0.3\n",
    "z_score = 5\n",
    "z_score_anom = 1\n",
    "rasters_to_stitch = []\n",
    "p_bar = tqdm(fields.iterrows(), total=len(fields))\n",
    "colors = {\"Normal Growth\": (0, 0, 0), \"Anomaly\": (182, 10, 28)}\n",
    "ps = PlantStress(min_ndvi=min_ndvi, noise_z_score=z_score, anomaly_z_score=z_score_anom)\n",
    "\n",
    "for i, record in enumerate(p_bar):\n",
    "    idx, row = record\n",
    "    field = fields.to_crs(src.crs).iloc[idx].geometry\n",
    "    out_raster = ps.segment_field(field, ndvi_path, START_DATE, END_DATE, REQUEST_ID, idx)\n",
    "    rasters_to_stitch.append(out_raster)"
   ]
  },
  {
   "cell_type": "code",
   "execution_count": 16,
   "metadata": {},
   "outputs": [
    {
     "data": {
      "text/plain": [
       "['/home/jovyan/work/results/dd/plant_stress/1011/1011_field_1011_0.tif',\n",
       " '/home/jovyan/work/results/dd/plant_stress/1011/1011_field_1011_1.tif',\n",
       " '/home/jovyan/work/results/dd/plant_stress/1011/1011_field_1011_2.tif',\n",
       " '/home/jovyan/work/results/dd/plant_stress/1011/1011_field_1011_3.tif',\n",
       " '/home/jovyan/work/results/dd/plant_stress/1011/1011_field_1011_4.tif',\n",
       " '/home/jovyan/work/results/dd/plant_stress/1011/1011_field_1011_5.tif',\n",
       " '/home/jovyan/work/results/dd/plant_stress/1011/1011_field_1011_6.tif',\n",
       " '/home/jovyan/work/results/dd/plant_stress/1011/1011_field_1011_7.tif',\n",
       " '/home/jovyan/work/results/dd/plant_stress/1011/1011_field_1011_8.tif']"
      ]
     },
     "execution_count": 16,
     "metadata": {},
     "output_type": "execute_result"
    }
   ],
   "source": [
    "rasters_to_stitch"
   ]
  },
  {
   "cell_type": "code",
   "execution_count": 17,
   "metadata": {},
   "outputs": [
    {
     "name": "stdout",
     "output_type": "stream",
     "text": [
      "saved raster /home/jovyan/work/results/dd/plant_stress/1011/1011_merged_merged.tif\n"
     ]
    },
    {
     "data": {
      "text/plain": [
       "'/home/jovyan/work/results/dd/plant_stress/1011/1011_merged_merged.tif'"
      ]
     },
     "execution_count": 17,
     "metadata": {},
     "output_type": "execute_result"
    }
   ],
   "source": [
    "path = f'{BASE}/results/dd/plant_stress/{REQUEST_ID}/{REQUEST_ID}_merged.tif'\n",
    "stitch_tiles(rasters_to_stitch, path)"
   ]
  },
  {
   "cell_type": "code",
   "execution_count": 18,
   "metadata": {},
   "outputs": [],
   "source": [
    "remove_aux_rasters = True\n",
    "\n",
    "if remove_aux_rasters:\n",
    "    \n",
    "    try:\n",
    "        shutil.rmtree(tile_folder)\n",
    "    except FileNotFoundError:\n",
    "        print(f'Error removing directory {tile_folder}')\n",
    "        \n",
    "    try:\n",
    "        os.remove(ndvi_path)\n",
    "    except FileNotFoundError:\n",
    "        print(f'Error removing file {ndvi_path}')\n",
    "        \n",
    "    for i in range(len(b04_tiles)):\n",
    "        ndvi_p = f'{BASE}/results/dd/plant_stress/{REQUEST_ID}/ndvi_{i}.tif'\n",
    "        try:\n",
    "            os.remove(ndvi_p)\n",
    "        except FileNotFoundError:\n",
    "            print(f'Error removing file {ndvi_p}')\n",
    "            \n",
    "    for raster_path in rasters_to_stitch:\n",
    "        try:\n",
    "            os.remove(raster_path)\n",
    "        except FileNotFoundError:\n",
    "            print(f'Error removing file {raster_path}')"
   ]
  },
  {
   "cell_type": "code",
   "execution_count": null,
   "metadata": {},
   "outputs": [],
   "source": []
  }
 ],
 "metadata": {
  "kernelspec": {
   "display_name": "Python 3",
   "language": "python",
   "name": "python3"
  },
  "language_info": {
   "codemirror_mode": {
    "name": "ipython",
    "version": 3
   },
   "file_extension": ".py",
   "mimetype": "text/x-python",
   "name": "python",
   "nbconvert_exporter": "python",
   "pygments_lexer": "ipython3",
   "version": "3.7.8"
  }
 },
 "nbformat": 4,
 "nbformat_minor": 4
}
