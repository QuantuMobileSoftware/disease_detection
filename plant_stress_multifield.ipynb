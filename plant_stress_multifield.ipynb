{
 "cells": [
  {
   "cell_type": "code",
   "execution_count": null,
   "metadata": {},
   "outputs": [],
   "source": [
    "REQUEST_ID = 0\n",
    "AOI = 'POLYGON ((-94.74437712304278 42.10688312211514, -94.78351591698579 42.10713783113902, -94.78351591698579 42.13795006926095, -94.74437712304278 42.13756819109344, -94.74437712304278 42.10688312211514))'\n",
    "START_DATE = '2020-07-07'\n",
    "END_DATE = '2020-07-14'"
   ]
  },
  {
   "cell_type": "code",
   "execution_count": null,
   "metadata": {},
   "outputs": [],
   "source": [
    "import os\n",
    "import shutil\n",
    "import time\n",
    "import numpy as np\n",
    "import geopandas as gpd\n",
    "import rasterio.mask\n",
    "from tqdm.notebook import tqdm\n",
    "import shapely.wkt\n",
    "from pathlib import Path\n",
    "\n",
    "from code.download.utils import get_tiles, check_nodata\n",
    "from code.download.load_tiles import load_images\n",
    "from code.index_research import calculate_ndvi\n",
    "from code.plant_stress import PlantStress\n",
    "from code.utils import dump_no_data_geosjon, stitch_tiles\n",
    "\n",
    "import warnings\n",
    "warnings.filterwarnings('ignore')\n",
    "import logging\n",
    "logger = logging.getLogger()\n",
    "logger.setLevel(logging.INFO)"
   ]
  },
  {
   "cell_type": "code",
   "execution_count": null,
   "metadata": {},
   "outputs": [],
   "source": [
    "default_crs = 'EPSG:4326'\n",
    "\n",
    "polygon = shapely.wkt.loads(AOI)\n",
    "aoi_filename = f\"{time.time()}_aoi.geojson\"\n",
    "gpd.GeoDataFrame(gpd.GeoSeries([polygon]), columns=[\"geometry\"]).to_file(aoi_filename, driver=\"GeoJSON\")"
   ]
  },
  {
   "cell_type": "code",
   "execution_count": null,
   "metadata": {},
   "outputs": [],
   "source": [
    "SEED = 66\n",
    "NB_USER = os.getenv('NB_USER')\n",
    "BASE = os.getcwd()\n",
    "DATA_DIR = f\"/home/{NB_USER}/work\"\n",
    "API_KEY = os.path.join(DATA_DIR, \".secret/sentinel2_google_api_key.json\")\n",
    "LOAD_DIR = os.path.join(DATA_DIR, \"satellite_imagery\")\n",
    "RESULTS_DIR = os.path.join(DATA_DIR, f\"results/dd/plant_stress_multi_field/{REQUEST_ID}\")\n",
    "SENTINEL_TILES_PATH = os.path.join(BASE, \"sentinel2grid.geojson\")\n",
    "PB_PATH = os.path.join(BASE, \"iowa_fields.geojson\")\n",
    "NAME = 'Field anomalies'\n",
    "PB_PATH\n",
    "\n",
    "\n",
    "\n",
    "BANDS = {'B04','B08'}\n",
    "CONSTRAINTS = {'NODATA_PIXEL_PERCENTAGE': 15.0, 'CLOUDY_PIXEL_PERCENTAGE': 10.0, }\n",
    "PRODUCT_TYPE = 'L2A'\n",
    "\n",
    "for pbd_file in os.listdir(RESULTS_DIR):\n",
    "    if pbd_file.startswith(str(REQUEST_ID)+'_') or pbd_file.startswith('demo_'+str(REQUEST_ID)+'_'):\n",
    "        PB_PATH = os.path.join(RESULTS_DIR, pbd_file)\n",
    "        break\n",
    "        \n",
    "    else:\n",
    "        # should be trigger PBDNN notebook excecution? PBDNN pipeline?\n",
    "        PB_PATH = aoi_filename\n",
    "        \n",
    "PB_PATH\n",
    "os.makedirs(RESULTS_DIR, exist_ok=True)"
   ]
  },
  {
   "cell_type": "code",
   "execution_count": null,
   "metadata": {},
   "outputs": [],
   "source": [
    "b04_tiles, b08_tiles, tci_tiles = [], [], []\n",
    "date_tile_info = get_tiles(aoi_filename, SENTINEL_TILES_PATH)"
   ]
  },
  {
   "cell_type": "code",
   "execution_count": null,
   "metadata": {},
   "outputs": [],
   "source": [
    "loadings = load_images(API_KEY, date_tile_info.tileID.values, START_DATE, END_DATE, LOAD_DIR, BANDS, CONSTRAINTS, PRODUCT_TYPE)\n",
    "checked = check_nodata(loadings, PRODUCT_TYPE)\n",
    "needed_num_tiles = len(checked.keys())\n",
    "\n",
    "while len(b04_tiles) < needed_num_tiles and len(b08_tiles) < needed_num_tiles:\n",
    "    if CONSTRAINTS['NODATA_PIXEL_PERCENTAGE'] > 70:\n",
    "        metadata = dict(START_DATE=START_DATE, END_DATE=END_DATE, REQUEST_ID=REQUEST_ID, NAME=NAME)\n",
    "        geojson_path = os.path.join(RESULTS_DIR, f\"{START_DATE}_{END_DATE}_no_data.geojson\")\n",
    "        dump_no_data_geosjon(polygon, geojson_path, metadata)\n",
    "        raise ValueError(\"Images not loaded for given AOI. Change dates, constraints\")\n",
    "\n",
    "    for i, tile in date_tile_info.iterrows():\n",
    "        if len(checked[tile.tileID]) < 1:\n",
    "            continue\n",
    "                \n",
    "        tile_folder = Path(sorted(checked[tile.tileID])[0])\n",
    "        tile_files = list(tile_folder.rglob('*.jp2'))\n",
    "        b04_tiles.append([x for x in tile_files if '_B04_' in str(x)][0])\n",
    "        b08_tiles.append([x for x in tile_files if '_B08_' in str(x)][0])\n",
    "        print(f'filtered: {tile_folder}')\n",
    "        \n",
    "    CONSTRAINTS['NODATA_PIXEL_PERCENTAGE'] += 5\n",
    "    CONSTRAINTS['CLOUDY_PIXEL_PERCENTAGE'] += 5\n",
    "    loadings = load_images(API_KEY, date_tile_info.tileID.values, START_DATE, END_DATE, LOAD_DIR, BANDS, CONSTRAINTS, PRODUCT_TYPE)\n",
    "    checked = check_nodata(loadings, PRODUCT_TYPE)"
   ]
  },
  {
   "cell_type": "code",
   "execution_count": null,
   "metadata": {},
   "outputs": [],
   "source": [
    "if len(b04_tiles) > 1:\n",
    "    b04_tile = stitch_tiles(b04_tiles, str(b04_tiles[0]).replace('.jp2', '_merged.tif'))\n",
    "    b08_tile = stitch_tiles(b08_tiles, str(b08_tiles[0]).replace('.jp2', '_merged.tif'))\n",
    "else:\n",
    "    b04_tile = str(b04_tiles[0])\n",
    "    b08_tile = str(b08_tiles[0])"
   ]
  },
  {
   "cell_type": "code",
   "execution_count": null,
   "metadata": {},
   "outputs": [],
   "source": [
    "b04_tile"
   ]
  },
  {
   "cell_type": "code",
   "execution_count": null,
   "metadata": {},
   "outputs": [],
   "source": [
    "os.makedirs(f'{RESULTS_DIR}/plant_stress/{REQUEST_ID}', exist_ok=True)\n",
    "ndvi_path = f'{RESULTS_DIR}/plant_stress/{REQUEST_ID}/{REQUEST_ID}_ndvi.tif'\n",
    "if not os.path.exists(ndvi_path):\n",
    "    calculate_ndvi(b04_tile, b08_tile, out_path=ndvi_path, nodata=np.nan)"
   ]
  },
  {
   "cell_type": "code",
   "execution_count": null,
   "metadata": {},
   "outputs": [],
   "source": [
    "fields = gpd.read_file(PB_PATH)"
   ]
  },
  {
   "cell_type": "code",
   "execution_count": null,
   "metadata": {},
   "outputs": [],
   "source": [
    "with rasterio.open(ndvi_path) as src:\n",
    "    target_crs = src.crs"
   ]
  },
  {
   "cell_type": "code",
   "execution_count": null,
   "metadata": {},
   "outputs": [],
   "source": [
    "fields = gpd.read_file(PB_PATH)"
   ]
  },
  {
   "cell_type": "code",
   "execution_count": null,
   "metadata": {},
   "outputs": [],
   "source": [
    "min_ndvi = 0.3\n",
    "z_score = 5\n",
    "z_score_anom = 1\n",
    "rasters_to_stitch = []\n",
    "p_bar = tqdm(fields.iterrows(), total=len(fields))\n",
    "colors = {\"Normal Growth\": (0, 0, 0), \"Anomaly\": (182, 10, 28)}\n",
    "ps = PlantStress(min_ndvi=min_ndvi, noise_z_score=z_score, anomaly_z_score=z_score_anom)\n",
    "\n",
    "for i, record in enumerate(p_bar):\n",
    "    idx, row = record\n",
    "    field = fields.to_crs(target_crs).iloc[idx].geometry\n",
    "    out_raster = ps.segment_field(field, ndvi_path, START_DATE, END_DATE, REQUEST_ID, idx)\n",
    "    rasters_to_stitch.append(out_raster)"
   ]
  },
  {
   "cell_type": "code",
   "execution_count": null,
   "metadata": {},
   "outputs": [],
   "source": [
    "rasters_to_stitch"
   ]
  },
  {
   "cell_type": "code",
   "execution_count": null,
   "metadata": {},
   "outputs": [],
   "source": [
    "path = f'{RESULTS_DIR}/plant_stress/{REQUEST_ID}/{REQUEST_ID}_merged.tif'\n",
    "stitch_tiles(rasters_to_stitch, path)"
   ]
  },
  {
   "cell_type": "code",
   "execution_count": null,
   "metadata": {},
   "outputs": [],
   "source": [
    "remove_aux_rasters = True\n",
    "\n",
    "if remove_aux_rasters:\n",
    "    \n",
    "    try:\n",
    "        shutil.rmtree(tile_folder)\n",
    "    except FileNotFoundError:\n",
    "        print(f'Error removing directory {tile_folder}')\n",
    "        \n",
    "    try:\n",
    "        os.remove(ndvi_path)\n",
    "    except FileNotFoundError:\n",
    "        print(f'Error removing file {ndvi_path}')\n",
    "        \n",
    "    for i in range(len(b04_tiles)):\n",
    "        ndvi_p = f'{RESULTS_DIR}/plant_stress/{REQUEST_ID}/ndvi_{i}.tif'\n",
    "        try:\n",
    "            os.remove(ndvi_p)\n",
    "        except FileNotFoundError:\n",
    "            print(f'Error removing file {ndvi_p}')\n",
    "            \n",
    "    for raster_path in rasters_to_stitch:\n",
    "        try:\n",
    "            os.remove(raster_path)\n",
    "        except FileNotFoundError:\n",
    "            print(f'Error removing file {raster_path}')"
   ]
  }
 ],
 "metadata": {
  "kernelspec": {
   "display_name": "Python 3 (ipykernel)",
   "language": "python",
   "name": "python3"
  },
  "language_info": {
   "codemirror_mode": {
    "name": "ipython",
    "version": 3
   },
   "file_extension": ".py",
   "mimetype": "text/x-python",
   "name": "python",
   "nbconvert_exporter": "python",
   "pygments_lexer": "ipython3",
   "version": "3.8.8"
  }
 },
 "nbformat": 4,
 "nbformat_minor": 4
}