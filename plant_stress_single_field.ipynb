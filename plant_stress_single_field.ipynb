{
 "cells": [
  {
   "cell_type": "code",
   "execution_count": null,
   "metadata": {},
   "outputs": [],
   "source": [
    "import os\n",
    "import shutil\n",
    "import time\n",
    "import numpy as np\n",
    "import geojson\n",
    "import geopandas as gpd\n",
    "import shapely.wkt\n",
    "from pathlib import Path\n",
    "from sentinel2download.downloader import Sentinel2Downloader\n",
    "from sentinel2download.overlap import Sentinel2Overlap\n",
    "\n",
    "from code.download.utils import get_tiles, check_nodata, get_min_clouds\n",
    "from code.download.load_tiles import load_images\n",
    "from code.index_research import calculate_ndvi\n",
    "from code.plant_stress import PlantStress\n",
    "from code.utils import dump_no_data_geosjon, stitch_tiles\n",
    "\n",
    "import warnings\n",
    "warnings.filterwarnings('ignore')\n",
    "import logging\n",
    "logger = logging.getLogger()\n",
    "logger.setLevel(logging.INFO)"
   ]
  },
  {
   "cell_type": "code",
   "execution_count": null,
   "metadata": {},
   "outputs": [],
   "source": [
    "REQUEST_ID=os.getenv('REQUEST_ID')\n",
    "START_DATE=os.getenv('START_DATE')\n",
    "END_DATE=os.getenv('END_DATE')\n",
    "AOI=os.getenv('AOI')\n",
    "SENTINEL2_GOOGLE_API_KEY=os.getenv('SENTINEL2_GOOGLE_API_KEY')\n",
    "SATELLITE_CACHE_FOLDER=os.getenv('SENTINEL2_CACHE')\n",
    "OUTPUT_FOLDER=os.getenv('OUTPUT_FOLDER')"
   ]
  },
  {
   "cell_type": "code",
   "execution_count": null,
   "metadata": {},
   "outputs": [],
   "source": [
    "default_crs = 'EPSG:4326'\n",
    "\n",
    "polygon = shapely.wkt.loads(AOI)\n",
    "aoi_filename = f\"{time.time()}_aoi.geojson\"\n",
    "gpd.GeoDataFrame(gpd.GeoSeries([polygon]), columns=[\"geometry\"]).to_file(aoi_filename, driver=\"GeoJSON\")"
   ]
  },
  {
   "cell_type": "code",
   "execution_count": null,
   "metadata": {},
   "outputs": [],
   "source": [
    "BASE = os.getcwd()\n",
    "BANDS = {'B04','B08'}\n",
    "CONSTRAINTS = {'NODATA_PIXEL_PERCENTAGE': 15.0, 'CLOUDY_PIXEL_PERCENTAGE': 10.0, }\n",
    "PRODUCT_TYPE = 'L2A'\n",
    "NAME = 'Field anomalies'\n",
    "os.makedirs(OUTPUT_FOLDER, exist_ok=True)"
   ]
  },
  {
   "cell_type": "code",
   "execution_count": null,
   "metadata": {},
   "outputs": [],
   "source": [
    "b04_tiles, b08_tiles, tci_tiles = [], [], []\n",
    "s2overlap = Sentinel2Overlap(aoi_path=aoi_filename)\n",
    "overlap_tiles = s2overlap.overlap_with_geometry()"
   ]
  },
  {
   "cell_type": "code",
   "execution_count": null,
   "metadata": {},
   "outputs": [],
   "source": [
    "loadings = load_images(SENTINEL2_GOOGLE_API_KEY, overlap_tiles.Name.values, START_DATE, END_DATE, SATELLITE_CACHE_FOLDER, BANDS, CONSTRAINTS, PRODUCT_TYPE)\n",
    "checked = check_nodata(loadings, PRODUCT_TYPE)\n",
    "needed_num_tiles = len(checked.keys())\n",
    "\n",
    "while len(b04_tiles) < needed_num_tiles and len(b08_tiles) < needed_num_tiles:\n",
    "    if CONSTRAINTS['NODATA_PIXEL_PERCENTAGE'] > 70:\n",
    "        metadata = dict(START_DATE=START_DATE, END_DATE=END_DATE, REQUEST_ID=REQUEST_ID, NAME=NAME)\n",
    "        geojson_path = os.path.join(OUTPUT_FOLDER, f\"{START_DATE}_{END_DATE}_no_data.geojson\")\n",
    "        dump_no_data_geosjon(polygon, geojson_path, metadata)\n",
    "        raise ValueError(\"Images not loaded for given AOI. Change dates, constraints\")\n",
    "\n",
    "    for i, tile in overlap_tiles.iterrows():\n",
    "        if len(checked[tile.Name]) < 1:\n",
    "            continue\n",
    "                \n",
    "        tile_folder = Path(sorted(checked[tile.Name])[0])\n",
    "        tile_files = list(tile_folder.rglob('*.jp2'))\n",
    "        b04_tiles.append([x for x in tile_files if '_B04_' in str(x)][0])\n",
    "        b08_tiles.append([x for x in tile_files if '_B08_' in str(x)][0])\n",
    "        print(f'filtered: {tile_folder}')\n",
    "\n",
    "    CONSTRAINTS['NODATA_PIXEL_PERCENTAGE'] += 5\n",
    "    CONSTRAINTS['CLOUDY_PIXEL_PERCENTAGE'] += 5\n",
    "    loadings = load_images(SENTINEL2_GOOGLE_API_KEY, overlap_tiles.Name.values, START_DATE, END_DATE, SATELLITE_CACHE_FOLDER, BANDS, CONSTRAINTS, PRODUCT_TYPE)\n",
    "    checked = check_nodata(loadings, PRODUCT_TYPE)"
   ]
  },
  {
   "cell_type": "code",
   "execution_count": null,
   "metadata": {},
   "outputs": [],
   "source": [
    "if len(b04_tiles) > 1:\n",
    "    b04_tile = stitch_tiles(b04_tiles, str(b04_tiles[0]).replace('.jp2', '_merged.tif'))\n",
    "    b08_tile = stitch_tiles(b08_tiles, str(b08_tiles[0]).replace('.jp2', '_merged.tif'))\n",
    "else:\n",
    "    b04_tile = str(b04_tiles[0])\n",
    "    b08_tile = str(b08_tiles[0])"
   ]
  },
  {
   "cell_type": "code",
   "execution_count": null,
   "metadata": {},
   "outputs": [],
   "source": [
    "ndvi_path = os.path.join(BASE, f'{START_DATE}_{END_DATE}_ndvi.tif')\n",
    "if not os.path.exists(ndvi_path):\n",
    "    calculate_ndvi(b04_tile, b08_tile, out_path=ndvi_path, nodata=np.nan)"
   ]
  },
  {
   "cell_type": "code",
   "execution_count": null,
   "metadata": {},
   "outputs": [],
   "source": [
    "min_ndvi = 0.3\n",
    "z_score = 5\n",
    "z_score_anom = 1\n",
    "colors = {\"Normal Growth\": (0, 0, 0), \"Anomaly\": (182, 10, 28)}\n",
    "\n",
    "field = gpd.read_file(aoi_filename)"
   ]
  },
  {
   "cell_type": "code",
   "execution_count": null,
   "metadata": {},
   "outputs": [],
   "source": [
    "ps = PlantStress(min_ndvi=min_ndvi, noise_z_score=z_score, anomaly_z_score=z_score_anom)"
   ]
  },
  {
   "cell_type": "code",
   "execution_count": null,
   "metadata": {},
   "outputs": [],
   "source": [
    "raster_path = os.path.join(OUTPUT_FOLDER, f'{START_DATE}_{END_DATE}_field.tif')\n",
    "ps.segment_field(NAME, field, ndvi_path, raster_path, START_DATE, END_DATE, REQUEST_ID)"
   ]
  }
 ],
 "metadata": {
  "kernelspec": {
   "display_name": "Python 3 (ipykernel)",
   "language": "python",
   "name": "python3"
  },
  "language_info": {
   "codemirror_mode": {
    "name": "ipython",
    "version": 3
   },
   "file_extension": ".py",
   "mimetype": "text/x-python",
   "name": "python",
   "nbconvert_exporter": "python",
   "pygments_lexer": "ipython3",
   "version": "3.8.15"
  },
  "vscode": {
   "interpreter": {
    "hash": "31f2aee4e71d21fbe5cf8b01ff0e069b9275f58929596ceb00d14d90e3e16cd6"
   }
  }
 },
 "nbformat": 4,
 "nbformat_minor": 4
}
