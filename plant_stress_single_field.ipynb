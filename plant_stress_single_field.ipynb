{
 "cells": [
  {
   "cell_type": "code",
   "execution_count": null,
   "metadata": {},
   "outputs": [],
   "source": [
    "REQUEST_ID = 0\n",
    "AOI = 'POLYGON ((-94.783452 42.110879, -94.77976099999999 42.110799, -94.779718 42.117867, -94.78068399999999 42.117898, -94.78089799999999 42.117676, -94.781499 42.117691, -94.78179900000001 42.117755, -94.781756 42.118026, -94.783258 42.118073, -94.783452 42.117978, -94.783452 42.115129, -94.783452 42.110879))'\n",
    "START_DATE = '2020-07-07'\n",
    "END_DATE = '2020-07-14'"
   ]
  },
  {
   "cell_type": "code",
   "execution_count": null,
   "metadata": {},
   "outputs": [],
   "source": [
    "# !pip3 install -q tslearn"
   ]
  },
  {
   "cell_type": "code",
   "execution_count": null,
   "metadata": {},
   "outputs": [],
   "source": [
    "import os\n",
    "import shutil\n",
    "import time\n",
    "import numpy as np\n",
    "import geopandas as gpd\n",
    "import shapely.wkt\n",
    "from pathlib import Path\n",
    "from code.download.utils import get_tiles, check_nodata, get_min_clouds\n",
    "from code.download.load_tiles import load_images\n",
    "from code.index_research import calculate_ndvi\n",
    "from code.plant_stress import PlantStress\n",
    "import warnings\n",
    "warnings.filterwarnings('ignore')\n",
    "import logging\n",
    "logger = logging.getLogger()\n",
    "logger.setLevel(logging.INFO)"
   ]
  },
  {
   "cell_type": "code",
   "execution_count": null,
   "metadata": {},
   "outputs": [],
   "source": [
    "default_crs = 'EPSG:4326'\n",
    "\n",
    "polygon = shapely.wkt.loads(AOI)\n",
    "aoi_filename = f\"{time.time()}_aoi.geojson\"\n",
    "gpd.GeoDataFrame(gpd.GeoSeries([polygon]), columns=[\"geometry\"]).to_file(aoi_filename, driver=\"GeoJSON\")"
   ]
  },
  {
   "cell_type": "code",
   "execution_count": null,
   "metadata": {},
   "outputs": [],
   "source": [
    "NB_USER = os.getenv('NB_USER')\n",
    "BASE = os.getcwd()\n",
    "DATA_DIR = f\"/home/{NB_USER}/work\"\n",
    "API_KEY = os.path.join(DATA_DIR, \".secret/sentinel2_google_api_key.json\")\n",
    "LOAD_DIR = os.path.join(DATA_DIR, \"satellite_imagery\")\n",
    "RESULTS_DIR = os.path.join(DATA_DIR, \"results/dd\")\n",
    "SENTINEL_TILES_PATH = os.path.join(BASE, \"sentinel2grid.geojson\")\n",
    "\n",
    "BANDS = {'B04','B08'}\n",
    "CONSTRAINTS = {'NODATA_PIXEL_PERCENTAGE': 15.0, 'CLOUDY_PIXEL_PERCENTAGE': 10.0, }\n",
    "PRODUCT_TYPE = 'L2A'"
   ]
  },
  {
   "cell_type": "code",
   "execution_count": null,
   "metadata": {},
   "outputs": [],
   "source": [
    "b04_tiles, b08_tiles, tci_tiles = [], [], []\n",
    "date_tile_info = get_tiles(aoi_filename, SENTINEL_TILES_PATH)"
   ]
  },
  {
   "cell_type": "code",
   "execution_count": null,
   "metadata": {},
   "outputs": [],
   "source": [
    "loadings = load_images(API_KEY, date_tile_info.tileID.values, START_DATE, END_DATE, LOAD_DIR, BANDS, CONSTRAINTS, PRODUCT_TYPE)\n",
    "checked = check_nodata(loadings, PRODUCT_TYPE)\n",
    "needed_num_tiles = len(checked.keys())\n",
    "\n",
<<<<<<< Updated upstream
    "while len(b04_tiles) < needed_num_tiles and len(b08_tiles) < needed_num_tiles:\n",
=======
    "try:\n",
    "    checked = get_min_clouds(checked)\n",
    "except Exception as e:\n",
    "    print(f'No clean raster found for period from {START_DATE} to {END_DATE}, skipping, {e}')\n",
>>>>>>> Stashed changes
    "\n",
    "    for i, tile in date_tile_info.iterrows():\n",
    "        if len(checked[tile.tileID]) < 1:\n",
    "            continue\n",
    "                \n",
    "        tile_folder = Path(sorted(checked[tile.tileID])[0])\n",
    "        tile_files = list(tile_folder.rglob('*.jp2'))\n",
    "        b04_tiles.append([x for x in tile_files if '_B04_' in str(x)][0])\n",
    "        b08_tiles.append([x for x in tile_files if '_B08_' in str(x)][0])\n",
    "        print(f'filtered: {tile_folder}')\n",
    "        \n",
    "    CONSTRAINTS['NODATA_PIXEL_PERCENTAGE'] += 5\n",
    "    CONSTRAINTS['CLOUDY_PIXEL_PERCENTAGE'] += 5\n",
    "    loadings = load_images(API_KEY, date_tile_info.tileID.values, START_DATE, END_DATE, LOAD_DIR, BANDS, CONSTRAINTS, PRODUCT_TYPE)\n",
    "    checked = check_nodata(loadings, PRODUCT_TYPE)\n",
    "    if CONSTRAINTS['NODATA_PIXEL_PERCENTAGE'] > 70:\n",
    "        raise Exception(f'No clean raster found for period from {START_DATE} to {END_DATE}, skipping, {e}')"
   ]
  },
  {
   "cell_type": "code",
   "execution_count": null,
   "metadata": {},
   "outputs": [],
   "source": [
    "if len(b04_tiles) > 1:\n",
    "    b04_tile = stitch_tiles(b04_tiles, str(b04_tiles[0]).replace('.jp2', '_merged.tif'))\n",
    "    b08_tile = stitch_tiles(b08_tiles, str(b08_tiles[0]).replace('.jp2', '_merged.tif'))\n",
    "else:\n",
    "    b04_tile = str(b04_tiles[0])\n",
    "    b08_tile = str(b08_tiles[0])"
   ]
  },
  {
   "cell_type": "code",
   "execution_count": null,
   "metadata": {},
   "outputs": [],
   "source": [
    "os.makedirs(f'{RESULTS_DIR}/plant_stress/{REQUEST_ID}', exist_ok=True)\n",
    "ndvi_path = f'{RESULTS_DIR}/plant_stress/{REQUEST_ID}/{REQUEST_ID}_ndvi.tif'\n",
    "if not os.path.exists(ndvi_path):\n",
    "    calculate_ndvi(b04_tile, b08_tile, out_path=ndvi_path, nodata=np.nan)"
   ]
  },
  {
   "cell_type": "code",
   "execution_count": null,
   "metadata": {},
   "outputs": [],
   "source": [
    "min_ndvi = 0.3\n",
    "z_score = 5\n",
    "z_score_anom = 1\n",
    "colors = {\"Normal Growth\": (0, 0, 0), \"Anomaly\": (182, 10, 28)}\n",
    "\n",
    "field = gpd.read_file(aoi_filename)"
   ]
  },
  {
   "cell_type": "code",
   "execution_count": null,
   "metadata": {},
   "outputs": [],
   "source": [
    "ps = PlantStress(min_ndvi=min_ndvi, noise_z_score=z_score, anomaly_z_score=z_score_anom)"
   ]
  },
  {
   "cell_type": "code",
   "execution_count": null,
   "metadata": {},
   "outputs": [],
   "source": [
    "ps.segment_field(field, ndvi_path, START_DATE, END_DATE, REQUEST_ID)"
   ]
  },
  {
   "cell_type": "code",
   "execution_count": null,
   "metadata": {},
   "outputs": [],
   "source": [
    "remove_aux_rasters = True\n",
    "\n",
    "if remove_aux_rasters:\n",
    "    \n",
    "    try:\n",
    "        shutil.rmtree(tile_folder)\n",
    "    except FileNotFoundError:\n",
    "        print(f'Error removing directory {tile_folder}')\n",
    "        \n",
    "    try:\n",
    "        os.remove(ndvi_path)\n",
    "    except FileNotFoundError:\n",
    "        print(f'File {ndvi_path} not found')\n",
    "        \n",
    "    try:\n",
    "        os.remove(aoi_filename)\n",
    "    except FileNotFoundError:\n",
    "        print(f'File {aoi_filename} not found')"
   ]
  }
 ],
 "metadata": {
  "kernelspec": {
   "display_name": "Python 3 (ipykernel)",
   "language": "python",
   "name": "python3"
  },
  "language_info": {
   "codemirror_mode": {
    "name": "ipython",
    "version": 3
   },
   "file_extension": ".py",
   "mimetype": "text/x-python",
   "name": "python",
   "nbconvert_exporter": "python",
   "pygments_lexer": "ipython3",
   "version": "3.8.8"
  }
 },
 "nbformat": 4,
 "nbformat_minor": 4
}