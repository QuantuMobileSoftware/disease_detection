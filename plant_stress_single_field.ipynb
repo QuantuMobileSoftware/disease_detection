{
 "cells": [
  {
   "cell_type": "code",
   "execution_count": 1,
   "metadata": {},
   "outputs": [],
   "source": [
    "REQUEST_ID = 265\n",
    "AOI = 'POLYGON ((-94.783452 42.110879, -94.77976099999999 42.110799, -94.779718 42.117867, -94.78068399999999 42.117898, -94.78089799999999 42.117676, -94.781499 42.117691, -94.78179900000001 42.117755, -94.781756 42.118026, -94.783258 42.118073, -94.783452 42.117978, -94.783452 42.115129, -94.783452 42.110879))'\n",
    "START_DATE = '2020-07-07'\n",
    "END_DATE = '2020-07-14'"
   ]
  },
  {
   "cell_type": "code",
   "execution_count": 2,
   "metadata": {},
   "outputs": [],
   "source": [
    "# !pip3 install -q tslearn"
   ]
  },
  {
   "cell_type": "code",
   "execution_count": 3,
   "metadata": {},
   "outputs": [],
   "source": [
    "import os\n",
    "import shutil\n",
    "import json\n",
    "import time\n",
    "import cv2\n",
    "import rasterio\n",
    "import pandas as pd\n",
    "import numpy as np\n",
    "import geopandas as gpd\n",
    "import rasterio.mask\n",
    "import shapely\n",
    "\n",
    "from tqdm.notebook import tqdm\n",
    "from os.path import join, basename, split\n",
    "from scipy.ndimage import rotate\n",
    "from rasterio import features\n",
    "from rasterio.merge import merge\n",
    "from rasterio.warp import (aligned_target,\n",
    "                           calculate_default_transform,\n",
    "                           reproject,\n",
    "                           Resampling)\n",
    "from shapely.geometry import Polygon, shape, LinearRing, box\n",
    "import shapely.wkt\n",
    "from pathlib import Path\n",
    "from datetime import datetime\n",
    "import matplotlib.pylab as plt\n",
    "import seaborn as sns\n",
    "\n",
    "#from tslearn.clustering import TimeSeriesKMeans\n",
    "#from tslearn.utils import to_time_series_dataset\n",
    "import rasterio.mask as riomask\n",
    "\n",
    "from code.download.utils import get_tiles, _check_folder, check_nodata, get_min_clouds, transform_resolution\n",
    "from code.download.load_tiles import load_images\n",
    "from code.index_research import combine_bands, calculate_ndvi, calculate_tcari, calculate_msr_g\n",
    "from code.plant_stress import PlantStress\n",
    "\n",
    "import warnings\n",
    "warnings.filterwarnings('ignore')\n",
    "import logging\n",
    "logger = logging.getLogger()\n",
    "logger.setLevel(logging.INFO)"
   ]
  },
  {
   "cell_type": "code",
   "execution_count": 4,
   "metadata": {},
   "outputs": [],
   "source": [
    "default_crs = 'EPSG:4326'\n",
    "\n",
    "polygon = shapely.wkt.loads(AOI)\n",
    "aoi_filename = f\"{time.time()}_aoi.geojson\"\n",
    "gpd.GeoDataFrame(gpd.GeoSeries([polygon]), columns=[\"geometry\"]).to_file(aoi_filename, driver=\"GeoJSON\")"
   ]
  },
  {
   "cell_type": "code",
   "execution_count": 5,
   "metadata": {},
   "outputs": [],
   "source": [
    "SEED = 66\n",
    "NB_USER = os.getenv('NB_USER')\n",
    "BASE = f\"/home/{NB_USER}/work\"\n",
    "\n",
    "API_KEY = os.path.join(BASE, \".secret/sentinel2_google_api_key.json\")\n",
    "sentinel_tiles_path = os.path.join(BASE, \"notebooks/pbdnn/sentinel2grid.geojson\")\n",
    "LOAD_DIR = os.path.join(BASE, \"satellite_imagery\")\n",
    "RESULTS_DIR = os.path.join(BASE, \"results/pbdnn\")\n",
    "PBD_DIR = os.path.join(BASE, \"notebooks/pbdnn\")\n",
    "\n",
    "BANDS = {'B04','B08', 'TCI'}\n",
    "CONSTRAINTS = {'NODATA_PIXEL_PERCENTAGE': 15.0, 'CLOUDY_PIXEL_PERCENTAGE': 10.0, }\n",
    "PRODUCT_TYPE = 'L2A'"
   ]
  },
  {
   "cell_type": "code",
   "execution_count": 6,
   "metadata": {},
   "outputs": [],
   "source": [
    "b04_tiles, b08_tiles, tci_tiles = [], [], []\n",
    "date_tile_info = get_tiles(aoi_filename, sentinel_tiles_path)"
   ]
  },
  {
   "cell_type": "code",
   "execution_count": 7,
   "metadata": {},
   "outputs": [
    {
     "name": "stdout",
     "output_type": "stream",
     "text": [
      "filtered: /home/jovyan/work/satellite_imagery/S2A_MSIL2A_20200713T170901_N0214_R112_T15TUG_20200713T213310\n"
     ]
    }
   ],
   "source": [
    "loadings = load_images(API_KEY, date_tile_info.tileID.values, START_DATE, END_DATE, LOAD_DIR, BANDS, CONSTRAINTS, PRODUCT_TYPE)\n",
    "checked = check_nodata(loadings, PRODUCT_TYPE)\n",
    "\n",
    "try:\n",
    "    checked = get_min_clouds(checked)\n",
    "except Exception as e:\n",
    "    print(f'No clean raster found for period from {start} to {end}, skipping, {e}')\n",
    "\n",
    "for i, tile in date_tile_info.iterrows():\n",
    "    try:\n",
    "        tile_folder = Path(checked[tile.tileID])\n",
    "        print(f'filtered: {tile_folder}')\n",
    "    except Exception as ex:\n",
    "        print(ex)\n",
    "\n",
    "b04_tile = [os.path.join(tile_folder, filename) for filename in os.listdir(tile_folder) if 'B04_10m.jp2' in filename][0]\n",
    "b08_tile = [os.path.join(tile_folder, filename) for filename in os.listdir(tile_folder) if 'B08_10m.jp2' in filename][0]\n",
    "tci_tile = [os.path.join(tile_folder, filename) for filename in os.listdir(tile_folder) if 'TCI_10m.jp2' in filename][0]"
   ]
  },
  {
   "cell_type": "code",
   "execution_count": 8,
   "metadata": {},
   "outputs": [
    {
     "data": {
      "text/plain": [
       "'/home/jovyan/work/satellite_imagery/S2A_MSIL2A_20200713T170901_N0214_R112_T15TUG_20200713T213310/T15TUG_20200713T170901_B04_10m.jp2'"
      ]
     },
     "execution_count": 8,
     "metadata": {},
     "output_type": "execute_result"
    }
   ],
   "source": [
    "b04_tile"
   ]
  },
  {
   "cell_type": "code",
   "execution_count": 9,
   "metadata": {},
   "outputs": [],
   "source": [
    "os.makedirs(f'{BASE}/results/dd/plant_stress/{REQUEST_ID}', exist_ok=True)\n",
    "ndvi_path = f'{BASE}/results/dd/plant_stress/{REQUEST_ID}/{REQUEST_ID}_ndvi.tif'\n",
    "if not os.path.exists(ndvi_path):\n",
    "    calculate_ndvi(b04_tile, b08_tile, out_path=ndvi_path, nodata=np.nan)"
   ]
  },
  {
   "cell_type": "code",
   "execution_count": 10,
   "metadata": {},
   "outputs": [],
   "source": [
    "min_ndvi = 0.3\n",
    "z_score = 5\n",
    "z_score_anom = 1\n",
    "colors = {\"Normal Growth\": (0, 0, 0), \"Anomaly\": (182, 10, 28)}\n",
    "\n",
    "field = gpd.read_file(aoi_filename)"
   ]
  },
  {
   "cell_type": "code",
   "execution_count": 11,
   "metadata": {},
   "outputs": [],
   "source": [
    "ps = PlantStress(min_ndvi=min_ndvi, noise_z_score=z_score, anomaly_z_score=z_score_anom)"
   ]
  },
  {
   "cell_type": "code",
   "execution_count": 12,
   "metadata": {},
   "outputs": [
    {
     "data": {
      "text/plain": [
       "'/home/jovyan/work/results/dd/plant_stress/265/265_field_265_0.tif'"
      ]
     },
     "execution_count": 12,
     "metadata": {},
     "output_type": "execute_result"
    }
   ],
   "source": [
    "ps.segment_field(field, ndvi_path, START_DATE, END_DATE, REQUEST_ID)"
   ]
  },
  {
   "cell_type": "code",
   "execution_count": 13,
   "metadata": {},
   "outputs": [],
   "source": [
    "remove_aux_rasters = True\n",
    "\n",
    "if remove_aux_rasters:\n",
    "    \n",
    "    try:\n",
    "        shutil.rmtree(tile_folder)\n",
    "    except FileNotFoundError:\n",
    "        print(f'Error removing directory {tile_folder}')\n",
    "        \n",
    "    try:\n",
    "        os.remove(ndvi_path)\n",
    "    except FileNotFoundError:\n",
    "        print(f'File {ndvi_path} not found')\n",
    "        \n",
    "    try:\n",
    "        os.remove(aoi_filename)\n",
    "    except FileNotFoundError:\n",
    "        print(f'File {aoi_filename} not found')"
   ]
  },
  {
   "cell_type": "code",
   "execution_count": null,
   "metadata": {},
   "outputs": [],
   "source": []
  }
 ],
 "metadata": {
  "kernelspec": {
   "display_name": "Python 3",
   "language": "python",
   "name": "python3"
  },
  "language_info": {
   "codemirror_mode": {
    "name": "ipython",
    "version": 3
   },
   "file_extension": ".py",
   "mimetype": "text/x-python",
   "name": "python",
   "nbconvert_exporter": "python",
   "pygments_lexer": "ipython3",
   "version": "3.7.8"
  }
 },
 "nbformat": 4,
 "nbformat_minor": 4
}
