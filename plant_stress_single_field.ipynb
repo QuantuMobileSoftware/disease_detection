{
 "cells": [
  {
   "cell_type": "code",
   "execution_count": null,
   "metadata": {},
   "outputs": [],
   "source": [
    "REQUEST_ID = 0\n",
    "AOI = 'POLYGON ((-94.783452 42.110879, -94.77976099999999 42.110799, -94.779718 42.117867, -94.78068399999999 42.117898, -94.78089799999999 42.117676, -94.781499 42.117691, -94.78179900000001 42.117755, -94.781756 42.118026, -94.783258 42.118073, -94.783452 42.117978, -94.783452 42.115129, -94.783452 42.110879))'\n",
    "START_DATE = '2020-07-07'\n",
    "END_DATE = '2020-07-14'"
   ]
  },
  {
   "cell_type": "code",
   "execution_count": null,
   "metadata": {},
   "outputs": [],
   "source": [
    "import os\n",
    "import shutil\n",
    "import json\n",
    "import time\n",
    "import cv2\n",
    "import rasterio\n",
    "import pandas as pd\n",
    "import numpy as np\n",
    "import geopandas as gpd\n",
    "import rasterio.mask\n",
    "import shapely\n",
    "\n",
    "from tqdm.notebook import tqdm\n",
    "from os.path import join, basename, split\n",
    "from scipy.ndimage import rotate\n",
    "from rasterio import features\n",
    "from rasterio.merge import merge\n",
    "from rasterio.warp import (aligned_target,\n",
    "                           calculate_default_transform,\n",
    "                           reproject,\n",
    "                           Resampling)\n",
    "from shapely.geometry import Polygon, shape, LinearRing, box\n",
    "import shapely.wkt\n",
    "from pathlib import Path\n",
    "from datetime import datetime\n",
    "import matplotlib.pylab as plt\n",
    "import seaborn as sns\n",
    "\n",
    "import rasterio.mask as riomask\n",
    "\n",
    "from code.download.utils import get_tiles, _check_folder, check_nodata, get_min_clouds, transform_resolution\n",
    "from code.download.load_tiles import load_images\n",
    "from code.index_research import combine_bands, calculate_ndvi, calculate_tcari, calculate_msr_g\n",
    "from code.plant_stress import PlantStress\n",
    "from code.utils import stitch_tiles\n",
    "\n",
    "import warnings\n",
    "warnings.filterwarnings('ignore')\n",
    "import logging\n",
    "logger = logging.getLogger()\n",
    "logger.setLevel(logging.INFO)"
   ]
  },
  {
   "cell_type": "code",
   "execution_count": null,
   "metadata": {},
   "outputs": [],
   "source": [
    "default_crs = 'EPSG:4326'\n",
    "\n",
    "polygon = shapely.wkt.loads(AOI)\n",
    "aoi_filename = f\"{time.time()}_aoi.geojson\"\n",
    "gpd.GeoDataFrame(gpd.GeoSeries([polygon]), columns=[\"geometry\"]).to_file(aoi_filename, driver=\"GeoJSON\")"
   ]
  },
  {
   "cell_type": "code",
   "execution_count": null,
   "metadata": {},
   "outputs": [],
   "source": [
    "NB_USER = os.getenv('NB_USER')\n",
    "BASE = f\"/home/{NB_USER}/work\"\n",
    "DATA_DIR = f\"/home/{NB_USER}/work\"\n",
    "\n",
    "API_KEY = os.path.join(BASE, \".secret/sentinel2_google_api_key.json\")\n",
    "sentinel_tiles_path = os.path.join(BASE, \"notebooks/pbdnn/sentinel2grid.geojson\")\n",
    "LOAD_DIR = os.path.join(BASE, \"satellite_imagery\")\n",
    "RESULTS_DIR = os.path.join(BASE, \"results/dd\")\n",
    "PBD_DIR = os.path.join(BASE, \"notebooks/pbdnn\")\n",
    "\n",
    "BANDS = {'B04','B08'}\n",
    "CONSTRAINTS = {'NODATA_PIXEL_PERCENTAGE': 15.0, 'CLOUDY_PIXEL_PERCENTAGE': 10.0, }\n",
    "PRODUCT_TYPE = 'L2A'"
   ]
  },
  {
   "cell_type": "code",
   "execution_count": null,
   "metadata": {},
   "outputs": [],
   "source": [
    "b04_tiles, b08_tiles = [], []\n",
    "date_tile_info = get_tiles(aoi_filename, sentinel_tiles_path)"
   ]
  },
  {
   "cell_type": "code",
   "execution_count": null,
   "metadata": {},
   "outputs": [],
   "source": [
    "loadings = load_images(API_KEY, date_tile_info.tileID.values, START_DATE, END_DATE, LOAD_DIR, BANDS, CONSTRAINTS, PRODUCT_TYPE)\n",
    "checked = check_nodata(loadings, PRODUCT_TYPE)\n",
    "needed_num_tiles = len(checked.keys())\n",
    "\n",
    "while len(b04_tiles) < needed_num_tiles and len(b08_tiles) < needed_num_tiles:\n",
    "\n",
    "    for i, tile in date_tile_info.iterrows():\n",
    "        if len(checked[tile.tileID]) < 1:\n",
    "            continue\n",
    "                \n",
    "        tile_folder = Path(sorted(checked[tile.tileID])[0])\n",
    "        tile_files = list(tile_folder.rglob('*.jp2'))\n",
    "        b04_tiles.append([x for x in tile_files if '_B04_' in str(x)][0])\n",
    "        b08_tiles.append([x for x in tile_files if '_B08_' in str(x)][0])\n",
    "        print(f'filtered: {tile_folder}')\n",
    "        \n",
    "    CONSTRAINTS['NODATA_PIXEL_PERCENTAGE'] += 5\n",
    "    CONSTRAINTS['CLOUDY_PIXEL_PERCENTAGE'] += 5\n",
    "    loadings = load_images(API_KEY, date_tile_info.tileID.values, START_DATE, END_DATE, LOAD_DIR, BANDS, CONSTRAINTS, PRODUCT_TYPE)\n",
    "    checked = check_nodata(loadings, PRODUCT_TYPE)\n",
    "    if CONSTRAINTS['NODATA_PIXEL_PERCENTAGE'] > 70:\n",
    "        raise Exception(f'No clean raster found for period from {START_DATE} to {END_DATE}, skipping, {e}')"
   ]
  },
  {
   "cell_type": "code",
   "execution_count": null,
   "metadata": {},
   "outputs": [],
   "source": [
    "if len(b04_tiles) > 1:\n",
    "    b04_tile = stitch_tiles(b04_tiles, str(b04_tiles[0]).replace('.jp2', '_merged.tif'))\n",
    "    b08_tile = stitch_tiles(b08_tiles, str(b08_tiles[0]).replace('.jp2', '_merged.tif'))\n",
    "else:\n",
    "    b04_tile = str(b04_tiles[0])\n",
    "    b08_tile = str(b08_tiles[0])"
   ]
  },
  {
   "cell_type": "code",
   "execution_count": null,
   "metadata": {},
   "outputs": [],
   "source": [
    "os.makedirs(f'{RESULTS_DIR}/plant_stress/{REQUEST_ID}', exist_ok=True)\n",
    "ndvi_path = os.path.join(RESULTS_DIR, f'plant_stress/{REQUEST_ID}/{REQUEST_ID}_ndvi.tif')\n",
    "if not os.path.exists(ndvi_path):\n",
    "    calculate_ndvi(b04_tile, b08_tile, out_path=ndvi_path, nodata=np.nan)"
   ]
  },
  {
   "cell_type": "code",
   "execution_count": null,
   "metadata": {},
   "outputs": [],
   "source": [
    "min_ndvi = 0.3\n",
    "z_score = 5\n",
    "z_score_anom = 1\n",
    "colors = {\"Normal Growth\": (0, 0, 0), \"Anomaly\": (182, 10, 28)}\n",
    "\n",
    "field = gpd.read_file(aoi_filename)"
   ]
  },
  {
   "cell_type": "code",
   "execution_count": null,
   "metadata": {},
   "outputs": [],
   "source": [
    "ps = PlantStress(min_ndvi=min_ndvi, noise_z_score=z_score, anomaly_z_score=z_score_anom)"
   ]
  },
  {
   "cell_type": "code",
   "execution_count": null,
   "metadata": {},
   "outputs": [],
   "source": [
    "ps.segment_field(field, ndvi_path, START_DATE, END_DATE, REQUEST_ID)"
   ]
  },
  {
   "cell_type": "code",
   "execution_count": null,
   "metadata": {},
   "outputs": [],
   "source": [
    "remove_aux_rasters = True\n",
    "\n",
    "if remove_aux_rasters:\n",
    "    \n",
    "    try:\n",
    "        shutil.rmtree(tile_folder)\n",
    "    except FileNotFoundError:\n",
    "        print(f'Error removing directory {tile_folder}')\n",
    "        \n",
    "    try:\n",
    "        os.remove(ndvi_path)\n",
    "    except FileNotFoundError:\n",
    "        print(f'File {ndvi_path} not found')\n",
    "        \n",
    "    try:\n",
    "        os.remove(aoi_filename)\n",
    "    except FileNotFoundError:\n",
    "        print(f'File {aoi_filename} not found')"
   ]
  },
  {
   "cell_type": "code",
   "execution_count": null,
   "metadata": {},
   "outputs": [],
   "source": []
  }
 ],
 "metadata": {
  "kernelspec": {
   "display_name": "Python 3",
   "language": "python",
   "name": "python3"
  },
  "language_info": {
   "codemirror_mode": {
    "name": "ipython",
    "version": 3
   },
   "file_extension": ".py",
   "mimetype": "text/x-python",
   "name": "python",
   "nbconvert_exporter": "python",
   "pygments_lexer": "ipython3",
   "version": "3.7.8"
  }
 },
 "nbformat": 4,
 "nbformat_minor": 4
}
