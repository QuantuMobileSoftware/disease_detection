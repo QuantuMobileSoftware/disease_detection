{
 "cells": [
  {
   "cell_type": "code",
   "execution_count": 1,
   "metadata": {},
   "outputs": [],
   "source": [
    "AOI = 'POLYGON ((-85.299088 40.339368, -85.332047 40.241477, -85.134979 40.229427, -85.157639 40.34146, -85.299088 40.339368))'\n",
    "START_DATE = \"2020-06-15\"\n",
    "END_DATE = \"2020-08-07\"\n",
    "REQUEST_ID = \"11\""
   ]
  },
  {
   "cell_type": "code",
   "execution_count": 2,
   "metadata": {},
   "outputs": [],
   "source": [
    "import os\n",
    "import json\n",
    "import time\n",
    "import cv2\n",
    "import rasterio\n",
    "import pandas as pd\n",
    "import numpy as np\n",
    "import geopandas as gpd\n",
    "import rasterio.mask\n",
    "import shapely\n",
    "\n",
    "from tqdm.notebook import tqdm\n",
    "from os.path import join, basename, split\n",
    "from scipy.ndimage import rotate\n",
    "from rasterio.features import rasterize, shapes\n",
    "from rasterio.merge import merge\n",
    "from shapely.geometry import Polygon, shape, LinearRing\n",
    "import shapely.wkt\n",
    "from pathlib import Path\n",
    "from datetime import datetime\n",
    "\n",
    "from sklearn.decomposition import LatentDirichletAllocation\n",
    "from sklearn.cluster import KMeans\n",
    "from sklearn.neighbors import KernelDensity, NearestNeighbors\n",
    "import rasterio.mask as riomask\n",
    "\n",
    "from code.download.utils import get_tiles, _check_folder, check_nodata, get_min_clouds\n",
    "from code.download.load_tiles import load_images\n",
    "from code.index_research import calculate_ndmi\n",
    "\n",
    "import warnings\n",
    "warnings.filterwarnings('ignore')\n",
    "import logging\n",
    "logger = logging.getLogger()\n",
    "logger.setLevel(logging.INFO)"
   ]
  },
  {
   "cell_type": "code",
   "execution_count": 3,
   "metadata": {},
   "outputs": [],
   "source": [
    "default_crs = 'EPSG:4326'\n",
    "\n",
    "polygon = shapely.wkt.loads(AOI)\n",
    "aoi_filename = f\"{time.time()}_aoi.geojson\"\n",
    "gpd.GeoDataFrame(gpd.GeoSeries([polygon]), columns=[\"geometry\"]).to_file(aoi_filename, driver=\"GeoJSON\")"
   ]
  },
  {
   "cell_type": "code",
   "execution_count": 4,
   "metadata": {},
   "outputs": [],
   "source": [
    "NB_USER = os.getenv('NB_USER')\n",
    "BASE = f\"/home/{NB_USER}/work\"\n",
    "\n",
    "API_KEY = os.path.join(BASE, \".secret/sentinel2_google_api_key.json\")\n",
    "sentinel_tiles_path = os.path.join(BASE, \"notebooks/pbdnn/sentinel2grid.geojson\")\n",
    "LOAD_DIR = os.path.join(BASE, \"satellite_imagery\")\n",
    "RESULTS_DIR = os.path.join(BASE, f\"results/dd/moisture_content//{REQUEST_ID}\")\n",
    "\n",
    "BANDS = {'B08', 'B12', 'TCI'}\n",
    "CONSTRAINTS = {'NODATA_PIXEL_PERCENTAGE': 15.0, 'CLOUDY_PIXEL_PERCENTAGE': 10.0, }\n",
    "PRODUCT_TYPE = 'L2A'"
   ]
  },
  {
   "cell_type": "code",
   "execution_count": 5,
   "metadata": {},
   "outputs": [
    {
     "name": "stdout",
     "output_type": "stream",
     "text": [
      "filtered: /home/jovyan/work/satellite_imagery/S2B_MSIL2A_20200706T162839_N0214_R083_T16TFK_20200706T205639\n"
     ]
    }
   ],
   "source": [
    "date_tile_info = get_tiles(aoi_filename, sentinel_tiles_path)\n",
    "loadings = load_images(API_KEY, date_tile_info.tileID.values, START_DATE, END_DATE, LOAD_DIR, BANDS, CONSTRAINTS, PRODUCT_TYPE)\n",
    "checked = check_nodata(loadings, PRODUCT_TYPE)\n",
    "\n",
    "try:\n",
    "    checked = get_min_clouds(checked)\n",
    "except Exception:\n",
    "    print(f'No clean raster found for period from {START_DATE} to {END_DATE}, skipping')\n",
    "    \n",
    "for i, tile in date_tile_info.iterrows():\n",
    "    try:\n",
    "        tile_folder = Path(checked[tile.tileID])\n",
    "        print(f'filtered: {tile_folder}')\n",
    "    except Exception as ex:\n",
    "        print(ex)\n",
    "        continue\n",
    "\n",
    "    b08_tile = [os.path.join(tile_folder, filename) for filename in os.listdir(tile_folder) if 'B08_10m.jp2' in filename][0]\n",
    "    b12_tile = [os.path.join(tile_folder, filename) for filename in os.listdir(tile_folder) if 'B12_20m.jp2' in filename][0]\n",
    "    tci_tile = [os.path.join(tile_folder, filename) for filename in os.listdir(tile_folder) if 'TCI_10m.jp2' in filename][0]"
   ]
  },
  {
   "cell_type": "code",
   "execution_count": 6,
   "metadata": {},
   "outputs": [],
   "source": [
    "ndmi_path = f'{BASE}/notebooks/dd/data/rasters/{REQUEST_ID}_ndmi.tif'\n",
    "ndmi_path = calculate_ndmi(b08_tile, b12_tile, out_path=ndmi_path)"
   ]
  },
  {
   "cell_type": "code",
   "execution_count": 7,
   "metadata": {},
   "outputs": [],
   "source": [
    "aoi = gpd.read_file(aoi_filename)\n",
    "\n",
    "with rasterio.open(tci_tile) as src:\n",
    "    tci_image, tfs = riomask.mask(\n",
    "        src, aoi.to_crs(src.crs).geometry, all_touched=False, crop=True)\n",
    "    \n",
    "with rasterio.open(ndmi_path) as src:\n",
    "    ndmi, tfs = riomask.mask(\n",
    "        src, aoi.to_crs(src.crs).geometry, all_touched=False, crop=True)"
   ]
  },
  {
   "cell_type": "code",
   "execution_count": 8,
   "metadata": {},
   "outputs": [],
   "source": [
    "with rasterio.open(ndmi_path) as src:\n",
    "    ndmi_img, tfs = riomask.mask(\n",
    "        src, aoi.to_crs(src.crs).geometry, all_touched=False, crop=True)\n",
    "    meta = src.meta\n",
    "    meta['transform'] = tfs\n",
    "    meta['width'] = ndmi_img.shape[-1]\n",
    "    meta['height'] = ndmi_img.shape[-2]"
   ]
  },
  {
   "cell_type": "code",
   "execution_count": 9,
   "metadata": {},
   "outputs": [
    {
     "data": {
      "text/plain": [
       "{'driver': 'GTiff',\n",
       " 'dtype': 'float32',\n",
       " 'nodata': None,\n",
       " 'width': 1680,\n",
       " 'height': 1240,\n",
       " 'count': 1,\n",
       " 'crs': CRS.from_epsg(32616),\n",
       " 'transform': Affine(10.0, 0.0, 641870.0,\n",
       "        0.0, -10.0, 4467290.0)}"
      ]
     },
     "execution_count": 9,
     "metadata": {},
     "output_type": "execute_result"
    }
   ],
   "source": [
    "meta"
   ]
  },
  {
   "cell_type": "code",
   "execution_count": 10,
   "metadata": {},
   "outputs": [],
   "source": [
    "class_names = {\n",
    "    'Bare soil': (-1, -0.7),\n",
    "    'No canopy cover': (-0.7, -0.4),\n",
    "    'High water stress': (-0.4, -0.1),\n",
    "    'Milde water stress': (-0.1, 0.2),\n",
    "    'Low water stress': (0.2, 0.5),\n",
    "    'No water stress': (0.5, 1)\n",
    "}\n",
    "\n",
    "NUM_CLASSES = len(class_names)\n",
    "arr = np.array(range(0, NUM_CLASSES)) / NUM_CLASSES\n",
    "\n",
    "colors = [\n",
    "    (182, 10, 28),\n",
    "    (255, 104, 76),\n",
    "    (227, 152, 2),\n",
    "    (255, 218, 102),\n",
    "    (48, 145, 67),\n",
    "    (138, 206, 126)\n",
    "]\n",
    "\n",
    "labels = []\n",
    "\n",
    "mask = np.zeros((ndmi[0].shape[-2], ndmi[0].shape[-1], 3))\n",
    "for idx, (name, values) in enumerate(class_names.items()):\n",
    "    mask[(ndmi[0] >= values[0])&(ndmi[0] <= values[1])] = colors[idx]\n",
    "    \n",
    "    labels.append({\n",
    "        \"color\": \",\".join(list(map(lambda x: str(int(x)), colors[idx]))),\n",
    "        \"name\": name\n",
    "    })\n",
    "\n",
    "mask[tci_image.transpose(1, 2, 0)==0] = 0\n",
    "labels = json.dumps(labels)\n",
    "mask = mask.astype(np.float32)"
   ]
  },
  {
   "cell_type": "code",
   "execution_count": 11,
   "metadata": {},
   "outputs": [],
   "source": [
    "os.makedirs(RESULTS_DIR, exist_ok=True)\n",
    "meta.update(\n",
    "    count=3,\n",
    "    nodata=0,\n",
    "    compress='lzw',\n",
    "    photometric='RGB'\n",
    ")\n",
    "\n",
    "result_name = f\"{REQUEST_ID}_{START_DATE}_{END_DATE}.tif\"\n",
    "colored_tif = os.path.join(RESULTS_DIR, result_name)\n",
    "\n",
    "with rasterio.open(colored_tif, 'w', **meta) as dst:\n",
    "    dst.update_tags(start_date=START_DATE, \n",
    "                    end_date=END_DATE, \n",
    "                    request_id=REQUEST_ID,\n",
    "                    name='Moisture content',\n",
    "                    labels=labels)\n",
    "\n",
    "    for i in range(mask.shape[-1]):\n",
    "        dst.write(mask[:,:,i], indexes=i+1)"
   ]
  },
  {
   "cell_type": "code",
   "execution_count": 12,
   "metadata": {},
   "outputs": [],
   "source": [
    "os.remove(aoi_filename)"
   ]
  },
  {
   "cell_type": "code",
   "execution_count": 13,
   "metadata": {},
   "outputs": [],
   "source": [
    "json_classes = {i: x for i, x in enumerate(class_names.keys())}"
   ]
  },
  {
   "cell_type": "code",
   "execution_count": 14,
   "metadata": {},
   "outputs": [],
   "source": [
    "if not os.path.exists('classes_labels.json'):\n",
    "    with open('classes_labels.json', 'w') as file:\n",
    "        json.dump(json_classes, file)"
   ]
  },
  {
   "cell_type": "code",
   "execution_count": 15,
   "metadata": {},
   "outputs": [
    {
     "name": "stdout",
     "output_type": "stream",
     "text": [
      "Error removing directory /home/jovyan/work/satellite_imagery/S2B_MSIL2A_20200706T162839_N0214_R083_T16TFK_20200706T205639\n"
     ]
    }
   ],
   "source": [
    "remove_aux_rasters = True\n",
    "\n",
    "if remove_aux_rasters:\n",
    "    \n",
    "    try:\n",
    "        os.remove(ndmi_path)\n",
    "    except FileNotFoundError:\n",
    "        print('No helping rasters found')\n",
    "    \n",
    "    try:\n",
    "        os.rmdir(tile_folder)\n",
    "    except Exception:\n",
    "        print(f'Error removing directory {tile_folder}')"
   ]
  }
 ],
 "metadata": {
  "kernelspec": {
   "display_name": "Python 3",
   "language": "python",
   "name": "python3"
  },
  "language_info": {
   "codemirror_mode": {
    "name": "ipython",
    "version": 3
   },
   "file_extension": ".py",
   "mimetype": "text/x-python",
   "name": "python",
   "nbconvert_exporter": "python",
   "pygments_lexer": "ipython3",
   "version": "3.7.8"
  }
 },
 "nbformat": 4,
 "nbformat_minor": 4
}
