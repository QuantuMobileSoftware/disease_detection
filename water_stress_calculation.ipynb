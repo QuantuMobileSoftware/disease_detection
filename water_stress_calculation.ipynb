{
 "cells": [
  {
   "cell_type": "code",
   "execution_count": null,
   "metadata": {},
   "outputs": [],
   "source": [
    "REQUEST_ID = 1013\n",
    "AOI = 'POLYGON ((-91.93050383241031 34.50910284968832, -91.92844389588556 34.61032319084964, -92.074699389025 34.61145344841528, -92.07538603453924 34.51362929274102, -92.00328825622739 34.50966866851616, -92.00328825622739 34.50966866851616, -91.93050383241031 34.50910284968832))'\n",
    "START_DATE = '2020-07-01'\n",
    "END_DATE = '2020-08-18'"
   ]
  },
  {
   "cell_type": "code",
   "execution_count": null,
   "metadata": {},
   "outputs": [],
   "source": [
    "import os\n",
    "import json\n",
    "import time\n",
    "import cv2\n",
    "import rasterio\n",
    "import pandas as pd\n",
    "import numpy as np\n",
    "import geopandas as gpd\n",
    "import rasterio.mask\n",
    "import shapely\n",
    "\n",
    "from tqdm.notebook import tqdm\n",
    "from os.path import join, basename, split\n",
    "from scipy.ndimage import rotate\n",
    "from rasterio.features import rasterize, shapes\n",
    "from rasterio.merge import merge\n",
    "from rasterio.plot import reshape_as_raster\n",
    "from shapely.geometry import Polygon, shape, LinearRing\n",
    "import shapely.wkt\n",
    "from pathlib import Path\n",
    "from datetime import datetime\n",
    "\n",
    "from sklearn.decomposition import LatentDirichletAllocation\n",
    "from sklearn.cluster import KMeans\n",
    "from sklearn.neighbors import KernelDensity, NearestNeighbors\n",
    "import rasterio.mask as riomask\n",
    "\n",
    "from code.download.utils import get_tiles, _check_folder, check_nodata, get_min_clouds\n",
    "from code.download.load_tiles import load_images\n",
    "from code.index_research import calculate_ndmi, calculate_ndvi\n",
    "\n",
    "import warnings\n",
    "warnings.filterwarnings('ignore')\n",
    "import logging\n",
    "logger = logging.getLogger()\n",
    "logger.setLevel(logging.INFO)"
   ]
  },
  {
   "cell_type": "code",
   "execution_count": null,
   "metadata": {},
   "outputs": [],
   "source": [
    "default_crs = 'EPSG:4326'\n",
    "\n",
    "polygon = shapely.wkt.loads(AOI)\n",
    "aoi_filename = f\"{time.time()}_aoi.geojson\"\n",
    "gpd.GeoDataFrame(gpd.GeoSeries([polygon]), columns=[\"geometry\"]).to_file(aoi_filename, driver=\"GeoJSON\")"
   ]
  },
  {
   "cell_type": "code",
   "execution_count": null,
   "metadata": {},
   "outputs": [],
   "source": [
    "NB_USER = os.getenv('NB_USER')\n",
    "BASE = os.getcwd()\n",
    "DATA_DIR = f\"/home/{NB_USER}/work\"\n",
    "\n",
    "API_KEY = os.path.join(DATA_DIR, \".secret/sentinel2_google_api_key.json\")\n",
    "sentinel_tiles_path = os.path.join(BASE, \"notebooks/pbdnn/sentinel2grid.geojson\")\n",
    "LOAD_DIR = os.path.join(DATA_DIR, \"satellite_imagery\")\n",
    "RESULTS_DIR = os.path.join(DATA_DIR, f\"results/dd/moisture_content/{REQUEST_ID}\")\n",
    "NDMI_PATH = os.path.join(BASE, f'data/rasters/{REQUEST_ID}_ndmi.tif')\n",
    "NDVI_PATH = os.path.join(BASE, f'data/rasters/{REQUEST_ID}_ndvi.tif')\n",
    "SENTINEL_TILES_PATH = os.path.join(BASE, \"sentinel2grid.geojson\")\n",
    "BANDS = {'B04', 'B08', 'B12', 'TCI'}\n",
    "CONSTRAINTS = {'NODATA_PIXEL_PERCENTAGE': 15.0, 'CLOUDY_PIXEL_PERCENTAGE': 10.0, }\n",
    "PRODUCT_TYPE = 'L2A'"
   ]
  },
  {
   "cell_type": "code",
   "execution_count": null,
   "metadata": {},
   "outputs": [],
   "source": [
    "date_tile_info = get_tiles(aoi_filename, SENTINEL_TILES_PATH)\n",
    "loadings = load_images(API_KEY, date_tile_info.tileID.values, START_DATE, END_DATE, LOAD_DIR, BANDS, CONSTRAINTS, PRODUCT_TYPE)\n",
    "checked = check_nodata(loadings, PRODUCT_TYPE)\n",
    "\n",
    "try:\n",
    "    checked = get_min_clouds(checked)\n",
    "except Exception:\n",
    "    print(f'No clean raster found for period from {START_DATE} to {END_DATE}, skipping')\n",
    "\n",
    "for i, tile in date_tile_info.iterrows():\n",
    "    try:\n",
    "        tile_folder = Path(checked[tile.tileID])\n",
    "        print(f'filtered: {tile_folder}')\n",
    "    except Exception as ex:\n",
    "        print(ex)\n",
    "        continue\n",
    "\n",
    "    b04_tile = [os.path.join(tile_folder, filename) for filename in os.listdir(tile_folder) if 'B04_10m.jp2' in filename][0]\n",
    "    b08_tile = [os.path.join(tile_folder, filename) for filename in os.listdir(tile_folder) if 'B08_10m.jp2' in filename][0]\n",
    "    b12_tile = [os.path.join(tile_folder, filename) for filename in os.listdir(tile_folder) if 'B12_20m.jp2' in filename][0]\n",
    "    tci_tile = [os.path.join(tile_folder, filename) for filename in os.listdir(tile_folder) if 'TCI_10m.jp2' in filename][0]"
   ]
  },
  {
   "cell_type": "code",
   "execution_count": null,
   "metadata": {},
   "outputs": [],
   "source": [
    "os.makedirs(RESULTS_DIR, exist_ok=True)\n",
    "calculate_ndmi(b08_tile, b12_tile, out_path=NDMI_PATH, nodata=np.nan)\n",
    "calculate_ndvi(b04_tile, b08_tile, out_path=NDVI_PATH, nodata=np.nan)"
   ]
  },
  {
   "cell_type": "code",
   "execution_count": null,
   "metadata": {},
   "outputs": [],
   "source": [
    "aoi = gpd.read_file(aoi_filename)\n",
    "\n",
    "with rasterio.open(tci_tile) as src:\n",
    "    tci_image, tfs = riomask.mask(\n",
    "        src, aoi.to_crs(src.crs).geometry, all_touched=False, crop=True)\n",
    "    \n",
    "with rasterio.open(NDMI_PATH) as src:\n",
    "    ndmi, tfs = riomask.mask(\n",
    "        src, aoi.to_crs(src.crs).geometry, all_touched=False, crop=True)\n",
    "    meta = src.meta\n",
    "    meta['transform'] = tfs\n",
    "    meta['width'] = ndmi.shape[-1]\n",
    "    meta['height'] = ndmi.shape[-2]\n",
    "    \n",
    "with rasterio.open(NDVI_PATH) as src:\n",
    "    ndvi, _ = riomask.mask(\n",
    "        src, aoi.to_crs(src.crs).geometry, all_touched=False, crop=True)"
   ]
  },
  {
   "cell_type": "code",
   "execution_count": null,
   "metadata": {},
   "outputs": [],
   "source": [
    "# class_name -> [[(ndmi_range), (ndvi_range)], [(ndmi_range), (ndvi_range)], ... ]\n",
    "\n",
    "class_names = {\n",
    "    \n",
    "    \"no water stress\": [\n",
    "        [(-0.6, -0.4), (0.1, 0.2)],\n",
    "        [(-0.4, -0.2), (0.1, 0.3)],\n",
    "        [(-0.2, 0.0), (0.1, 0.3)],\n",
    "        [(0.0, 0.2), (0.1, 0.4)],\n",
    "        [(0.2, 0.4), (0.1, 0.4)],\n",
    "        [(0.4, 0.6), (0.7, 1.0)],\n",
    "        [(0.6, 0.8), (0.6, 1.0)],\n",
    "        [(0.8, 1.0), (0.5, 1.0)],\n",
    "        \n",
    "    ],\n",
    "    \n",
    "    \"low water stress\": [\n",
    "        [(-0.6, -0.4), (0.2, 0.3)],\n",
    "        [(-0.4, -0.2), (0.3, 0.4)],\n",
    "        [(-0.2, 0.0), (0.3, 0.5)],\n",
    "        [(0.0, 0.2), (0.4, 0.7)],\n",
    "        [(0.2, 0.4), (0.4, 0.5)],\n",
    "        [(0.4, 0.6), (0.4, 0.7)],\n",
    "        [(0.6, 0.8), (0.3, 0.6)],\n",
    "        [(0.8, 1.0), (0.1, 0.5)],\n",
    "    ],\n",
    "    \n",
    "    \"high water stress\" : [\n",
    "        [(-0.6, -0.4), (0.3, 0.6)],\n",
    "        [(-0.4, -0.2), (0.4, 0.6)],\n",
    "        [(-0.2, 0.0), (0.5, 0.7)],\n",
    "        [(0.0, 0.2), (0.7, 0.9)],\n",
    "        [(0.2, 0.4), (0.5, 0.9)],\n",
    "        [(0.4, 0.6), (0.1, 0.4)],\n",
    "        [(0.6, 0.8), (0.1, 0.3)],\n",
    "    ],\n",
    "    \n",
    "    \"drought\": [\n",
    "        [(-0.4, -0.2), (0.6, 1.0)],\n",
    "        [(-0.6, -0.4), (0.6, 1.0)],\n",
    "        [(-0.2, 0.0), (0.7, 1.0)],\n",
    "        [(0.0, 0.2), (0.9, 1.0)],\n",
    "        [(0.2, 0.4), (0.9, 1.0)]\n",
    "    ]\n",
    "}\n",
    "\n",
    "NUM_CLASSES = len(class_names)\n",
    "arr = np.array(range(0, NUM_CLASSES)) / NUM_CLASSES\n",
    "\n",
    "colors = [\n",
    "    (138, 206, 126),\n",
    "    (48, 145, 67),\n",
    "    (255, 218, 102),\n",
    "    (182, 10, 28),\n",
    "]\n",
    "\n",
    "labels = []\n",
    "\n",
    "mask = np.zeros((ndmi[0].shape[-2], ndmi[0].shape[-1], 3)).astype(np.uint8)\n",
    "for idx, (name, values) in enumerate(class_names.items()):\n",
    "    class_area = 0\n",
    "    for pix_vals in values:\n",
    "        \n",
    "        ndmi_pix, ndvi_pix = pix_vals\n",
    "        class_area += np.where(((ndmi[0] >= ndmi_pix[0])&(ndmi[0] <= ndmi_pix[1])) & ((ndvi[0] >= ndvi_pix[0])&(ndvi[0] <= ndvi_pix[1])), 1, 0).sum() / 10**4 \n",
    "        mask[((ndmi[0] >= ndmi_pix[0])&(ndmi[0] <= ndmi_pix[1])) & ((ndvi[0] >= ndvi_pix[0])&(ndvi[0] <= ndvi_pix[1]))] = colors[idx]\n",
    "\n",
    "    labels.append({\n",
    "        \"color\": \",\".join(list(map(lambda x: str(int(x)), colors[idx]))),\n",
    "        \"name\": name,\n",
    "        \"area\": round(class_area, 3)\n",
    "    })"
   ]
  },
  {
   "cell_type": "code",
   "execution_count": null,
   "metadata": {},
   "outputs": [],
   "source": [
    "labels = json.dumps(labels)\n",
    "mask = mask.astype(np.float32)\n",
    "labels"
   ]
  },
  {
   "cell_type": "code",
   "execution_count": null,
   "metadata": {},
   "outputs": [],
   "source": [
    "meta.update(\n",
    "    count=3,\n",
    "    nodata=0,\n",
    "    compress='lzw',\n",
    "    photometric='RGB'\n",
    ")\n",
    "\n",
    "result_name = f\"{REQUEST_ID}_{START_DATE}_{END_DATE}.tif\"\n",
    "colored_tif = os.path.join(RESULTS_DIR, result_name)\n",
    "\n",
    "with rasterio.open(colored_tif, 'w', **meta) as dst:\n",
    "    dst.update_tags(start_date=START_DATE, \n",
    "                    end_date=END_DATE, \n",
    "                    request_id=REQUEST_ID,\n",
    "                    labels=labels,\n",
    "                    name='Moisture content')\n",
    "\n",
    "    for i in range(mask.shape[-1]):\n",
    "        dst.write(mask[:,:,i], indexes=i+1)"
   ]
  },
  {
   "cell_type": "code",
   "execution_count": null,
   "metadata": {},
   "outputs": [],
   "source": [
    "os.remove(aoi_filename)"
   ]
  },
  {
   "cell_type": "code",
   "execution_count": null,
   "metadata": {},
   "outputs": [],
   "source": [
    "json_classes = {i: x for i, x in enumerate(class_names.keys())}"
   ]
  },
  {
   "cell_type": "code",
   "execution_count": null,
   "metadata": {},
   "outputs": [],
   "source": [
    "if not os.path.exists('classes_labels.json'):\n",
    "    with open('classes_labels.json', 'w') as file:\n",
    "        json.dump(json_classes, file)"
   ]
  },
  {
   "cell_type": "code",
   "execution_count": null,
   "metadata": {},
   "outputs": [],
   "source": [
    "remove_aux_rasters = True\n",
    "\n",
    "if remove_aux_rasters:\n",
    "    \n",
    "    try:\n",
    "        os.remove(NDMI_PATH)\n",
    "    except FileNotFoundError:\n",
    "        print('No helping rasters found')\n",
    "        \n",
    "    try:\n",
    "        os.remove(NDVI_PATH)\n",
    "    except FileNotFoundError:\n",
    "        print('No helping rasters found')"
   ]
  }
 ],
 "metadata": {
  "kernelspec": {
   "display_name": "Python 3 (ipykernel)",
   "language": "python",
   "name": "python3"
  },
  "language_info": {
   "codemirror_mode": {
    "name": "ipython",
    "version": 3
   },
   "file_extension": ".py",
   "mimetype": "text/x-python",
   "name": "python",
   "nbconvert_exporter": "python",
   "pygments_lexer": "ipython3",
   "version": "3.8.8"
  }
 },
 "nbformat": 4,
 "nbformat_minor": 4
}
